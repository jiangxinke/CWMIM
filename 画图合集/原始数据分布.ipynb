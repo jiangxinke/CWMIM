{
 "cells": [
  {
   "cell_type": "code",
   "execution_count": 1,
   "id": "electrical-alignment",
   "metadata": {},
   "outputs": [],
   "source": [
    "import numpy as np\n",
    "from numpy.linalg import cholesky\n",
    "import matplotlib.pyplot as plt\n",
    "import statistics\n",
    "import math\n",
    "\n",
    "plt.rcParams['ps.useafm'] = True\n",
    "plt.rcParams['pdf.use14corefonts'] = True\n",
    "plt.rcParams['text.usetex'] = True\n",
    "\n",
    "sampleNo = 1000;\n",
    "# 一维正态分布\n",
    "# 下面三种方式是等效的\n",
    "mu = 0\n",
    "sigma = 1\n",
    "np.random.seed(0)\n",
    "s = np.random.normal(mu, sigma, sampleNo)"
   ]
  },
  {
   "cell_type": "code",
   "execution_count": 2,
   "id": "fabulous-sharing",
   "metadata": {},
   "outputs": [],
   "source": [
    "save_path = r\"D:\\projects\\SF\\toy_example\\data\\noisy\"\n",
    "b = ['nflow', 'MLLE', 'Isomap', 'T-SNE', 'UMAP', 'HLLE', 'LTSA', 'LLE', 'WLLE']\n",
    "\n",
    "a = [r\"YC01_rel\", r\"YC02_rel\", r\"DDH_left\", r\"DDH_right\"]\n",
    "name = [\"PBG-East\", \"PBG-West\", \"HZY-West\", \"HZY-East\"]"
   ]
  },
  {
   "cell_type": "code",
   "execution_count": 3,
   "id": "initial-powder",
   "metadata": {},
   "outputs": [],
   "source": [
    "dataset = a[1]\n",
    "file = r\"D:\\projects\\SF\\toy_example\\data\\{}.csv\".format(dataset)\n",
    "data = np.loadtxt(fname=file, skiprows=1, delimiter=\",\")[:, 3:].reshape(-1,)"
   ]
  },
  {
   "cell_type": "code",
   "execution_count": 4,
   "id": "violent-right",
   "metadata": {},
   "outputs": [],
   "source": [
    "data = data[data<30]\n",
    "data = data[data>-30]\n",
    "\n",
    "dev = statistics.pstdev(data)\n",
    "mean = statistics.mean(data)"
   ]
  },
  {
   "cell_type": "code",
   "execution_count": 5,
   "id": "suburban-capitol",
   "metadata": {},
   "outputs": [
    {
     "name": "stderr",
     "output_type": "stream",
     "text": [
      "E:\\ProgramData\\Anaconda3\\envs\\ManifoldFlow\\lib\\site-packages\\ipykernel_launcher.py:31: MatplotlibDeprecationWarning: savefig() got unexpected keyword argument \"quality\" which is no longer supported as of 3.3 and will become an error two minor releases later\n"
     ]
    },
    {
     "data": {
      "image/png": "[encoded data removed]",
      "text/plain": [
       "<Figure size 360x216 with 1 Axes>"
      ]
     },
     "metadata": {
      "needs_background": "light"
     },
     "output_type": "display_data"
    }
   ],
   "source": [
    "# YC01_rel\n",
    "\n",
    "dataset = a[0]\n",
    "file = r\"D:\\projects\\SF\\toy_example\\data\\{}.csv\".format(dataset)\n",
    "data = np.loadtxt(fname=file, skiprows=1, delimiter=\",\")[:, 3:].reshape(-1,)\n",
    "data = data[data<30]\n",
    "data = data[data>-30]\n",
    "\n",
    "dev = statistics.pstdev(data)\n",
    "mean = statistics.mean(data)\n",
    "\n",
    "\n",
    "plt.figure(figsize=(5, 3))\n",
    "plt.xticks(fontsize=20)\n",
    "plt.yticks((), fontsize=12)\n",
    "\n",
    "u = mean\n",
    "sig = dev\n",
    "x = np.linspace(u - 3*sig, u + 3*sig, 50)   # 定义域\n",
    "y = np.exp(-(x - u) ** 2 / (2 * sig ** 2)) / (math.sqrt(2*math.pi)*sig) # 定义曲线函数\n",
    "# plt.plot(x, y, \"r\", linewidth=4, label='mean={:.1f}, dev={:.1f}'.format(mean, dev))    # 加载曲线\n",
    "\n",
    "plt.hist(data, 50, density=True)\n",
    "\n",
    "plt.text(12, 0.16, '$\\mu$={:.1f}'.format(mean), fontsize=25)\n",
    "plt.text(12, 0.13, '$\\sigma$={:.1f}'.format(dev), fontsize=25)\n",
    "\n",
    "# plt.legend(fontsize=20)\n",
    "\n",
    "save_path = r\"D:\\projects\\Datasets\\Original\\distribution\"\n",
    "plt.savefig(save_path + r\"\\{}.pdf\".format(dataset), quality=100, dpi=500, bbox_inches='tight', pad_inches=0)"
   ]
  },
  {
   "cell_type": "code",
   "execution_count": 6,
   "id": "better-record",
   "metadata": {},
   "outputs": [
    {
     "name": "stderr",
     "output_type": "stream",
     "text": [
      "E:\\ProgramData\\Anaconda3\\envs\\ManifoldFlow\\lib\\site-packages\\ipykernel_launcher.py:31: MatplotlibDeprecationWarning: savefig() got unexpected keyword argument \"quality\" which is no longer supported as of 3.3 and will become an error two minor releases later\n"
     ]
    },
    {
     "data": {
      "image/png": "[encoded data removed]",
      "text/plain": [
       "<Figure size 360x216 with 1 Axes>"
      ]
     },
     "metadata": {
      "needs_background": "light"
     },
     "output_type": "display_data"
    }
   ],
   "source": [
    "# DDH_right\n",
    "\n",
    "dataset = a[3]\n",
    "file = r\"D:\\projects\\SF\\toy_example\\data\\{}.csv\".format(dataset)\n",
    "data = np.loadtxt(fname=file, skiprows=1, delimiter=\",\")[:, 3:].reshape(-1,)\n",
    "data = data[data<30]\n",
    "data = data[data>-30]\n",
    "\n",
    "dev = statistics.pstdev(data)\n",
    "mean = statistics.mean(data)\n",
    "\n",
    "\n",
    "plt.figure(figsize=(5, 3))\n",
    "plt.xticks(fontsize=20)\n",
    "plt.yticks((), fontsize=12)\n",
    "\n",
    "u = mean\n",
    "sig = dev\n",
    "x = np.linspace(u - 3*sig, u + 3*sig, 50)   # 定义域\n",
    "y = np.exp(-(x - u) ** 2 / (2 * sig ** 2)) / (math.sqrt(2*math.pi)*sig) # 定义曲线函数\n",
    "# plt.plot(x, y, \"r\", linewidth=4, label='mean={:.1f}, dev={:.1f}'.format(mean, dev))    # 加载曲线\n",
    "\n",
    "plt.hist(data, 50, density=True)\n",
    "\n",
    "plt.text(12, 0.075, '$\\mu$={:.1f}'.format(mean), fontsize=25)\n",
    "plt.text(12, 0.06, '$\\sigma$={:.1f}'.format(dev), fontsize=25)\n",
    "\n",
    "# plt.legend(fontsize=20)\n",
    "\n",
    "save_path = r\"D:\\projects\\Datasets\\Original\\distribution\"\n",
    "plt.savefig(save_path + r\"\\{}.pdf\".format(dataset), quality=100, dpi=500, bbox_inches='tight', pad_inches=0)"
   ]
  },
  {
   "cell_type": "code",
   "execution_count": 20,
   "id": "missing-methodology",
   "metadata": {},
   "outputs": [
    {
     "name": "stderr",
     "output_type": "stream",
     "text": [
      "E:\\ProgramData\\Anaconda3\\envs\\ManifoldFlow\\lib\\site-packages\\ipykernel_launcher.py:29: MatplotlibDeprecationWarning: savefig() got unexpected keyword argument \"quality\" which is no longer supported as of 3.3 and will become an error two minor releases later\n"
     ]
    },
    {
     "data": {
      "image/png": "[encoded data removed]",
      "text/plain": [
       "<Figure size 360x216 with 1 Axes>"
      ]
     },
     "metadata": {
      "needs_background": "light"
     },
     "output_type": "display_data"
    }
   ],
   "source": [
    "dataset = a[1]\n",
    "file = r\"D:\\projects\\SF\\toy_example\\data\\{}.csv\".format(dataset)\n",
    "data = np.loadtxt(fname=file, skiprows=1, delimiter=\",\")[:, 3:].reshape(-1,)\n",
    "data = data[data<30]\n",
    "data = data[data>-30]\n",
    "\n",
    "dev = statistics.pstdev(data)\n",
    "mean = statistics.mean(data)\n",
    "\n",
    "\n",
    "plt.figure(figsize=(5, 3))\n",
    "plt.xticks(fontsize=20)\n",
    "plt.yticks((), fontsize=12)\n",
    "\n",
    "u = mean\n",
    "sig = dev\n",
    "x = np.linspace(u - 3*sig, u + 3*sig, 50)   # 定义域\n",
    "y = np.exp(-(x - u) ** 2 / (2 * sig ** 2)) / (math.sqrt(2*math.pi)*sig) # 定义曲线函数\n",
    "# plt.plot(x, y, \"r\", linewidth=4, label='mean={:.1f}, dev={:.1f}'.format(mean, dev))    # 加载曲线\n",
    "\n",
    "plt.hist(data, 50, density=True)\n",
    "\n",
    "plt.text(12, 0.125, '$\\mu$={:.1f}'.format(mean), fontsize=25)\n",
    "plt.text(12, 0.10, '$\\sigma$={:.1f}'.format(dev), fontsize=25)\n",
    "\n",
    "# plt.legend(fontsize=20)\n",
    "\n",
    "save_path = r\"D:\\projects\\Datasets\\Original\\distribution\"\n",
    "plt.savefig(save_path + r\"\\{}.pdf\".format(dataset), quality=100, dpi=500, bbox_inches='tight', pad_inches=0)"
   ]
  },
  {
   "cell_type": "code",
   "execution_count": 21,
   "id": "excessive-religion",
   "metadata": {},
   "outputs": [
    {
     "name": "stderr",
     "output_type": "stream",
     "text": [
      "E:\\ProgramData\\Anaconda3\\envs\\ManifoldFlow\\lib\\site-packages\\ipykernel_launcher.py:29: MatplotlibDeprecationWarning: savefig() got unexpected keyword argument \"quality\" which is no longer supported as of 3.3 and will become an error two minor releases later\n"
     ]
    },
    {
     "data": {
      "image/png": "[encoded data removed]",
      "text/plain": [
       "<Figure size 360x216 with 1 Axes>"
      ]
     },
     "metadata": {
      "needs_background": "light"
     },
     "output_type": "display_data"
    }
   ],
   "source": [
    "dataset = a[2]\n",
    "file = r\"D:\\projects\\SF\\toy_example\\data\\{}.csv\".format(dataset)\n",
    "data = np.loadtxt(fname=file, skiprows=1, delimiter=\",\")[:, 3:].reshape(-1,)\n",
    "data = data[data<30]\n",
    "data = data[data>-30]\n",
    "\n",
    "dev = statistics.pstdev(data)\n",
    "mean = statistics.mean(data)\n",
    "\n",
    "\n",
    "plt.figure(figsize=(5, 3))\n",
    "plt.xticks(fontsize=20)\n",
    "plt.yticks((), fontsize=12)\n",
    "\n",
    "u = mean\n",
    "sig = dev\n",
    "x = np.linspace(u - 3*sig, u + 3*sig, 50)   # 定义域\n",
    "y = np.exp(-(x - u) ** 2 / (2 * sig ** 2)) / (math.sqrt(2*math.pi)*sig) # 定义曲线函数\n",
    "# plt.plot(x, y, \"r\", linewidth=4, label='mean={:.1f}, dev={:.1f}'.format(mean, dev))    # 加载曲线\n",
    "\n",
    "plt.hist(data, 50, density=True)\n",
    "\n",
    "plt.text(12, 0.08, '$\\mu$={:.1f}'.format(mean), fontsize=25)\n",
    "plt.text(12, 0.065, '$\\sigma$={:.1f}'.format(dev), fontsize=25)\n",
    "\n",
    "# plt.legend(fontsize=20)\n",
    "\n",
    "save_path = r\"D:\\projects\\Datasets\\Original\\distribution\"\n",
    "plt.savefig(save_path + r\"\\{}.pdf\".format(dataset), quality=100, dpi=500, bbox_inches='tight', pad_inches=0)"
   ]
  },
  {
   "cell_type": "code",
   "execution_count": 30,
   "id": "athletic-cattle",
   "metadata": {},
   "outputs": [
    {
     "data": {
      "image/png": "[encoded data removed]",
      "text/plain": [
       "<Figure size 432x288 with 1 Axes>"
      ]
     },
     "metadata": {
      "needs_background": "light"
     },
     "output_type": "display_data"
    }
   ],
   "source": [
    "u = mean\n",
    "sig = dev\n",
    "x = np.linspace(u - 3*sig, u + 3*sig, 50)   # 定义域\n",
    "y = np.exp(-(x - u) ** 2 / (2 * sig ** 2)) / (math.sqrt(2*math.pi)*sig) # 定义曲线函数\n",
    "plt.plot(x, y, \"g\", linewidth=2)    # 加载曲线\n",
    "plt.show()  # 显示"
   ]
  },
  {
   "cell_type": "code",
   "execution_count": null,
   "id": "inclusive-title",
   "metadata": {},
   "outputs": [],
   "source": []
  },
  {
   "cell_type": "code",
   "execution_count": 10,
   "id": "novel-greene",
   "metadata": {},
   "outputs": [],
   "source": [
    "size = 5000\n",
    "tt = np.random.rand(size)\n",
    "rn = np.random.randn(size)\n",
    "eps = rn * tt"
   ]
  },
  {
   "cell_type": "code",
   "execution_count": 11,
   "id": "israeli-setup",
   "metadata": {},
   "outputs": [
    {
     "data": {
      "text/plain": [
       "(array([1.11054341, 0.89043571, 1.16056789, 1.00048956, 1.07052383,\n",
       "        1.20058747, 0.9004406 , 0.98047977, 0.88043081, 0.97047487,\n",
       "        1.08052872, 0.83040633, 0.80039165, 0.96046997, 1.01049445,\n",
       "        1.00048956, 0.9104455 , 1.00048956, 0.88043081, 1.11054341,\n",
       "        0.99048466, 1.00048956, 1.02049935, 0.96046997, 0.97047487,\n",
       "        1.18057768, 1.07052383, 0.87042591, 1.1205483 , 1.1205483 ,\n",
       "        0.88043081, 1.08052872, 0.86042102, 1.10053851, 0.97047487,\n",
       "        1.03050424, 1.05051403, 0.97047487, 1.23060216, 0.98047977,\n",
       "        0.97047487, 1.1205483 , 1.06051893, 0.95046508, 1.02049935,\n",
       "        0.94046018, 0.94046018, 0.83040633, 1.04050914, 0.94046018]),\n",
       " array([3.44944091e-04, 2.03351577e-02, 4.03253714e-02, 6.03155850e-02,\n",
       "        8.03057987e-02, 1.00296012e-01, 1.20286226e-01, 1.40276440e-01,\n",
       "        1.60266653e-01, 1.80256867e-01, 2.00247081e-01, 2.20237294e-01,\n",
       "        2.40227508e-01, 2.60217722e-01, 2.80207935e-01, 3.00198149e-01,\n",
       "        3.20188362e-01, 3.40178576e-01, 3.60168790e-01, 3.80159003e-01,\n",
       "        4.00149217e-01, 4.20139431e-01, 4.40129644e-01, 4.60119858e-01,\n",
       "        4.80110072e-01, 5.00100285e-01, 5.20090499e-01, 5.40080713e-01,\n",
       "        5.60070926e-01, 5.80061140e-01, 6.00051354e-01, 6.20041567e-01,\n",
       "        6.40031781e-01, 6.60021995e-01, 6.80012208e-01, 7.00002422e-01,\n",
       "        7.19992636e-01, 7.39982849e-01, 7.59973063e-01, 7.79963276e-01,\n",
       "        7.99953490e-01, 8.19943704e-01, 8.39933917e-01, 8.59924131e-01,\n",
       "        8.79914345e-01, 8.99904558e-01, 9.19894772e-01, 9.39884986e-01,\n",
       "        9.59875199e-01, 9.79865413e-01, 9.99855627e-01]),\n",
       " <BarContainer object of 50 artists>)"
      ]
     },
     "execution_count": 11,
     "metadata": {},
     "output_type": "execute_result"
    },
    {
     "data": {
      "image/png": "[encoded data removed]",
      "text/plain": [
       "<Figure size 360x216 with 1 Axes>"
      ]
     },
     "metadata": {
      "needs_background": "light"
     },
     "output_type": "display_data"
    }
   ],
   "source": [
    "plt.figure(figsize=(5, 3))\n",
    "plt.xticks(fontsize=20)\n",
    "plt.yticks((), fontsize=12)\n",
    "\n",
    "plt.hist(tt, 50, density=True)"
   ]
  },
  {
   "cell_type": "code",
   "execution_count": 16,
   "id": "loaded-edwards",
   "metadata": {},
   "outputs": [
    {
     "data": {
      "text/plain": [
       "(array([0.        , 0.        , 0.        , 0.        , 0.        ,\n",
       "        0.        , 0.        , 0.        , 0.        , 0.        ,\n",
       "        0.00016667, 0.00083333, 0.00116667, 0.00233333, 0.004     ,\n",
       "        0.00483333, 0.01      , 0.015     , 0.026     , 0.03133333,\n",
       "        0.0455    , 0.05333333, 0.06283333, 0.07833333, 0.08483333,\n",
       "        0.0775    , 0.07416667, 0.066     , 0.05383333, 0.0465    ,\n",
       "        0.034     , 0.0245    , 0.014     , 0.01      , 0.00566667,\n",
       "        0.00383333, 0.00116667, 0.00083333, 0.0005    , 0.        ,\n",
       "        0.00033333, 0.        , 0.        , 0.        , 0.        ,\n",
       "        0.        , 0.        , 0.        , 0.        , 0.        ]),\n",
       " array([-30. , -28.8, -27.6, -26.4, -25.2, -24. , -22.8, -21.6, -20.4,\n",
       "        -19.2, -18. , -16.8, -15.6, -14.4, -13.2, -12. , -10.8,  -9.6,\n",
       "         -8.4,  -7.2,  -6. ,  -4.8,  -3.6,  -2.4,  -1.2,   0. ,   1.2,\n",
       "          2.4,   3.6,   4.8,   6. ,   7.2,   8.4,   9.6,  10.8,  12. ,\n",
       "         13.2,  14.4,  15.6,  16.8,  18. ,  19.2,  20.4,  21.6,  22.8,\n",
       "         24. ,  25.2,  26.4,  27.6,  28.8,  30. ]),\n",
       " <BarContainer object of 50 artists>)"
      ]
     },
     "execution_count": 16,
     "metadata": {},
     "output_type": "execute_result"
    },
    {
     "data": {
      "image/png": "[encoded data removed]",
      "text/plain": [
       "<Figure size 360x216 with 1 Axes>"
      ]
     },
     "metadata": {
      "needs_background": "light"
     },
     "output_type": "display_data"
    }
   ],
   "source": [
    "plt.figure(figsize=(5, 3))\n",
    "plt.xticks(fontsize=20)\n",
    "plt.yticks((), fontsize=12)\n",
    "\n",
    "plt.hist(rn*5, 50, density=True, range=(-30, 30))"
   ]
  },
  {
   "cell_type": "code",
   "execution_count": 22,
   "id": "lined-reason",
   "metadata": {},
   "outputs": [
    {
     "data": {
      "text/plain": [
       "(array([0.00151145, 0.        , 0.00151145, 0.        , 0.0030229 ,\n",
       "        0.0030229 , 0.0030229 , 0.0030229 , 0.00906869, 0.01209158,\n",
       "        0.01662592, 0.01511448, 0.02267171, 0.02267171, 0.05138922,\n",
       "        0.04383198, 0.09370975, 0.10277843, 0.14812186, 0.17532792,\n",
       "        0.2478774 , 0.3113582 , 0.42773966, 0.60155613, 1.07766211,\n",
       "        1.41622636, 0.75874667, 0.51238072, 0.35972452, 0.28868648,\n",
       "        0.20102253, 0.16625923, 0.11033567, 0.08766396, 0.08312962,\n",
       "        0.0604579 , 0.02569461, 0.02569461, 0.02267171, 0.01360303,\n",
       "        0.01511448, 0.00604579, 0.0030229 , 0.        , 0.00151145,\n",
       "        0.0030229 , 0.        , 0.        , 0.        , 0.00151145]),\n",
       " array([-3.32603625, -3.19371277, -3.06138929, -2.92906581, -2.79674233,\n",
       "        -2.66441885, -2.53209537, -2.39977189, -2.26744842, -2.13512494,\n",
       "        -2.00280146, -1.87047798, -1.7381545 , -1.60583102, -1.47350754,\n",
       "        -1.34118406, -1.20886058, -1.0765371 , -0.94421362, -0.81189014,\n",
       "        -0.67956666, -0.54724318, -0.4149197 , -0.28259622, -0.15027274,\n",
       "        -0.01794926,  0.11437422,  0.2466977 ,  0.37902118,  0.51134466,\n",
       "         0.64366814,  0.77599162,  0.9083151 ,  1.04063858,  1.17296206,\n",
       "         1.30528554,  1.43760902,  1.5699325 ,  1.70225597,  1.83457945,\n",
       "         1.96690293,  2.09922641,  2.23154989,  2.36387337,  2.49619685,\n",
       "         2.62852033,  2.76084381,  2.89316729,  3.02549077,  3.15781425,\n",
       "         3.29013773]),\n",
       " <BarContainer object of 50 artists>)"
      ]
     },
     "execution_count": 22,
     "metadata": {},
     "output_type": "execute_result"
    },
    {
     "data": {
      "image/png": "[encoded data removed]",
      "text/plain": [
       "<Figure size 360x216 with 1 Axes>"
      ]
     },
     "metadata": {
      "needs_background": "light"
     },
     "output_type": "display_data"
    }
   ],
   "source": [
    "plt.figure(figsize=(5, 3))\n",
    "plt.xticks(fontsize=20)\n",
    "plt.yticks((), fontsize=12)\n",
    "\n",
    "plt.hist(eps, 50, density=True)"
   ]
  },
  {
   "cell_type": "code",
   "execution_count": 17,
   "id": "opposed-grenada",
   "metadata": {},
   "outputs": [
    {
     "data": {
      "image/png": "[encoded data removed]",
      "text/plain": [
       "<Figure size 864x864 with 4 Axes>"
      ]
     },
     "metadata": {
      "needs_background": "light"
     },
     "output_type": "display_data"
    }
   ],
   "source": [
    "import numpy as np\n",
    "import scipy.stats  as st\n",
    "from scipy.stats import t\n",
    "from scipy.stats import norm\n",
    "import matplotlib.pyplot as plt\n",
    "\n",
    "#在进行区间估计时，我们首先要知道样本总体的分布情况和一些参数\n",
    "#x表示参数取值的列表\n",
    "#mean表期望\n",
    "#sig表示方差\n",
    "#alpha上分位\n",
    "def mean_ext(x,sig=None,confidence=0.95):\n",
    "    alpha = 1 - confidence\n",
    "    if sig != None:\n",
    "        phi_alpha_2 = norm.isf(-alpha/2)\n",
    "        lower_limit = np.mean(x) - phi_alpha_2 * sig / np.sqrt(len(x))\n",
    "        upper_limit = np.mean(x) + phi_alpha_2 * sig / np.sqrt(len(x))\n",
    "    else:\n",
    "        t_alpha_2 = t.isf(alpha/2,df = len(x)-1)\n",
    "        t_test = t.isf(1-alpha/2,df = len(x)-1)\n",
    "        std = np.std(x,ddof=1)\n",
    "        lower_limit = np.mean(x) - t_alpha_2 * std / np.sqrt(len(x)-1)\n",
    "        upper_limit = np.mean(x) + t_alpha_2 * std / np.sqrt(len(x)-1)\n",
    "   \n",
    "   \n",
    "    return np.array(round(lower_limit, 3), round(upper_limit, 3))\n",
    "\n",
    "\n",
    "def sigma_ext(x,mean = None,confidence = 0.99):\n",
    "    alpha = 1-confidence\n",
    "    top:float = 0#分子\n",
    "    if mean != None:\n",
    "        for xi in x:\n",
    "            top += (xi-mean)**2\n",
    "        chi2_alpha_2 = st.chi2.isf(1-alpha/2,df = len(x))\n",
    "        chi2_alpha_2C = st.chi2.isf(alpha/2,df = len(x))\n",
    "        chi2_alpha_test = chi2_alpha_2+chi2_alpha_2C\n",
    "    else:\n",
    "        d = np.mean(x)\n",
    "        for xi in x:\n",
    "            top +=(xi-d)**2\n",
    "       \n",
    "        chi2_alpha_2 = st.chi2.isf(1-alpha/2,df = len(x)-1)\n",
    "        chi2_alpha_2C = st.chi2.isf(alpha/2,df = len(x)-1)\n",
    "        chi2_alpha_test = chi2_alpha_2+chi2_alpha_2C\n",
    "    lower_limit:float = top/chi2_alpha_2C\n",
    "    upper_limit:float = top/chi2_alpha_2\n",
    "\n",
    "    return np.array(round(lower_limit, 3), round(upper_limit, 3))\n",
    "\n",
    "#数据准备\n",
    "x = np.random.normal(0,1,300)\n",
    "xnew = np.linspace(-3,3,10000)\n",
    "interval_mean_result1 = mean_ext(x,confidence=0.99)\n",
    "interval_mean_result2 = mean_ext(x,1,confidence=0.99)\n",
    "interval_sigma_result1 = sigma_ext(x,confidence=0.99)\n",
    "interval_sigma_result2 = sigma_ext(x,0,confidence =0.99)\n",
    "u1 = np.mean(interval_mean_result1)\n",
    "u2 = np.mean(interval_mean_result2)\n",
    "sigma1 = np.mean(interval_sigma_result1)\n",
    "sigma2 = np.mean(interval_sigma_result2)\n",
    "f = norm(loc = 0,scale = 1).pdf(x)\n",
    "f1= norm(loc = u1,scale = np.std(x)).pdf(xnew)\n",
    "f2= norm(loc = u2,scale = 1).pdf(xnew)\n",
    "f3= norm(loc = np.mean(x),scale = np.sqrt(sigma1)).pdf(xnew)\n",
    "f4= norm(loc = 0,scale =np.sqrt(sigma2)).pdf(xnew)\n",
    "\n",
    "#画图模块\n",
    "plt.figure(figsize=(12,12))\n",
    "plt.subplot(221)\n",
    "plt.plot(x,f,'r+',xnew,f1,'g--')\n",
    "plt.legend(['point','pdf'],loc='best')\n",
    "plt.title(\"Mean Estimation(Unknown Sigma)\")\n",
    "plt.subplot(222)\n",
    "plt.plot(x,f,'r+',xnew,f2,'g--')\n",
    "plt.legend(['point','pdf'],loc='best')\n",
    "plt.title(\"Mean Estimation(Known Sigma)\")\n",
    "plt.subplot(223)\n",
    "plt.plot(x,f,'r+',xnew,f3,'b--')\n",
    "plt.legend(['point','pdf'],loc='best')\n",
    "plt.title(\"Sigma Estimation(Unknown Mean)\")\n",
    "plt.subplot(224)\n",
    "plt.plot(x,f,'r+',xnew,f4,'b--')\n",
    "plt.legend(['point','pdf'],loc='best')\n",
    "plt.title(\"Sigma Estimation(Known Mean)\")\n",
    "plt.show()"
   ]
  },
  {
   "cell_type": "code",
   "execution_count": null,
   "id": "expected-summer",
   "metadata": {},
   "outputs": [],
   "source": []
  }
 ],
 "metadata": {
  "kernelspec": {
   "display_name": "Python 3",
   "language": "python",
   "name": "python3"
  },
  "language_info": {
   "codemirror_mode": {
    "name": "ipython",
    "version": 3
   },
   "file_extension": ".py",
   "mimetype": "text/x-python",
   "name": "python",
   "nbconvert_exporter": "python",
   "pygments_lexer": "ipython3",
   "version": "3.6.12"
  }
 },
 "nbformat": 4,
 "nbformat_minor": 5
}
