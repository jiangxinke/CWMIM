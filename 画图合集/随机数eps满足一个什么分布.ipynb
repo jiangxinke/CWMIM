{
 "cells": [
  {
   "cell_type": "code",
   "execution_count": 19,
   "id": "extraordinary-retirement",
   "metadata": {},
   "outputs": [
    {
     "data": {
      "text/plain": [
       "(array([0.00804231, 0.00804231, 0.01206347, 0.02010578, 0.01206347,\n",
       "        0.01206347, 0.02814809, 0.02814809, 0.05629618, 0.04825387,\n",
       "        0.09650774, 0.14878277, 0.1367193 , 0.16084624, 0.14878277,\n",
       "        0.20507895, 0.2734386 , 0.30158669, 0.31365016, 0.30560785,\n",
       "        0.36190403, 0.4101579 , 0.34984056, 0.39407328, 0.48253871,\n",
       "        0.38200981, 0.41820021, 0.40211559, 0.36994634, 0.2734386 ,\n",
       "        0.25735398, 0.27745976, 0.2734386 , 0.16888855, 0.12465583,\n",
       "        0.17693086, 0.12063468, 0.09248659, 0.10455005, 0.06433849,\n",
       "        0.06031734, 0.03216925, 0.04423271, 0.02814809, 0.02010578,\n",
       "        0.01206347, 0.01206347, 0.        , 0.        , 0.00402116]),\n",
       " array([-3.04614305, -2.9218007 , -2.79745834, -2.67311599, -2.54877363,\n",
       "        -2.42443127, -2.30008892, -2.17574656, -2.0514042 , -1.92706185,\n",
       "        -1.80271949, -1.67837713, -1.55403478, -1.42969242, -1.30535006,\n",
       "        -1.18100771, -1.05666535, -0.93232299, -0.80798064, -0.68363828,\n",
       "        -0.55929592, -0.43495357, -0.31061121, -0.18626885, -0.0619265 ,\n",
       "         0.06241586,  0.18675822,  0.31110057,  0.43544293,  0.55978529,\n",
       "         0.68412764,  0.80847   ,  0.93281236,  1.05715471,  1.18149707,\n",
       "         1.30583942,  1.43018178,  1.55452414,  1.67886649,  1.80320885,\n",
       "         1.92755121,  2.05189356,  2.17623592,  2.30057828,  2.42492063,\n",
       "         2.54926299,  2.67360535,  2.7979477 ,  2.92229006,  3.04663242,\n",
       "         3.17097477]),\n",
       " <BarContainer object of 50 artists>)"
      ]
     },
     "execution_count": 19,
     "metadata": {},
     "output_type": "execute_result"
    },
    {
     "data": {
      "image/png": "[encoded data removed]",
      "text/plain": [
       "<Figure size 432x288 with 1 Axes>"
      ]
     },
     "metadata": {
      "needs_background": "light"
     },
     "output_type": "display_data"
    }
   ],
   "source": [
    "import numpy as np\n",
    "from numpy.linalg import cholesky\n",
    "import matplotlib.pyplot as plt\n",
    " \n",
    "plt.rcParams['ps.useafm'] = True\n",
    "plt.rcParams['pdf.use14corefonts'] = True\n",
    "plt.rcParams['text.usetex'] = True\n",
    "\n",
    "sampleNo = 2000\n",
    "# 一维正态分布\n",
    "# 下面三种方式是等效的\n",
    "mu = 0\n",
    "sigma = 1\n",
    "np.random.seed(0)\n",
    "s = np.random.normal(mu, sigma, sampleNo)\n",
    "plt.hist(s, 50, density=True)"
   ]
  },
  {
   "cell_type": "code",
   "execution_count": 24,
   "id": "fabulous-advice",
   "metadata": {},
   "outputs": [],
   "source": [
    "sampleNo = 2000\n",
    "std = (1.2 - 0.8) * np.random.rand(sampleNo) + 0.8\n",
    "eps = np.random.normal(0, 1, sampleNo) * std"
   ]
  },
  {
   "cell_type": "code",
   "execution_count": 25,
   "id": "systematic-european",
   "metadata": {},
   "outputs": [
    {
     "data": {
      "text/plain": [
       "(array([2.12781084, 3.00396824, 2.62847221, 2.8788029 , 2.56588954,\n",
       "        2.50330687, 3.12913359, 2.19039351, 2.4407242 , 1.87748015,\n",
       "        2.25297618, 2.50330687, 2.69105488, 1.81489748, 3.25429893,\n",
       "        1.94006282, 2.69105488, 2.69105488, 2.75363756, 2.19039351,\n",
       "        2.37814153, 2.62847221, 2.56588954, 2.12781084, 2.81622023,\n",
       "        2.19039351, 2.75363756, 3.19171626, 2.25297618, 2.94138557,\n",
       "        3.06655092, 1.81489748, 2.50330687, 2.25297618, 2.37814153,\n",
       "        2.50330687, 2.62847221, 2.56588954, 3.56721229, 1.81489748,\n",
       "        2.12781084, 2.94138557, 2.69105488, 2.0026455 , 2.69105488,\n",
       "        2.69105488, 2.62847221, 2.69105488, 1.94006282, 1.68973214]),\n",
       " array([0.80013634, 0.80812578, 0.81611521, 0.82410464, 0.83209407,\n",
       "        0.8400835 , 0.84807294, 0.85606237, 0.8640518 , 0.87204123,\n",
       "        0.88003066, 0.8880201 , 0.89600953, 0.90399896, 0.91198839,\n",
       "        0.91997782, 0.92796726, 0.93595669, 0.94394612, 0.95193555,\n",
       "        0.95992498, 0.96791442, 0.97590385, 0.98389328, 0.99188271,\n",
       "        0.99987214, 1.00786158, 1.01585101, 1.02384044, 1.03182987,\n",
       "        1.0398193 , 1.04780874, 1.05579817, 1.0637876 , 1.07177703,\n",
       "        1.07976646, 1.0877559 , 1.09574533, 1.10373476, 1.11172419,\n",
       "        1.11971362, 1.12770306, 1.13569249, 1.14368192, 1.15167135,\n",
       "        1.15966078, 1.16765022, 1.17563965, 1.18362908, 1.19161851,\n",
       "        1.19960794]),\n",
       " <BarContainer object of 50 artists>)"
      ]
     },
     "execution_count": 25,
     "metadata": {},
     "output_type": "execute_result"
    },
    {
     "data": {
      "image/png": "[encoded data removed]",
      "text/plain": [
       "<Figure size 432x288 with 1 Axes>"
      ]
     },
     "metadata": {
      "needs_background": "light"
     },
     "output_type": "display_data"
    }
   ],
   "source": [
    "plt.hist(std, 50, density=True)"
   ]
  },
  {
   "cell_type": "code",
   "execution_count": 26,
   "id": "revolutionary-ground",
   "metadata": {},
   "outputs": [
    {
     "data": {
      "text/plain": [
       "(array([0.00317954, 0.        , 0.00317954, 0.00317954, 0.00635907,\n",
       "        0.00317954, 0.02225675, 0.01907721, 0.02225675, 0.03815442,\n",
       "        0.04133396, 0.0635907 , 0.07312931, 0.10810419, 0.14943815,\n",
       "        0.14943815, 0.16533582, 0.23846513, 0.28933769, 0.36882607,\n",
       "        0.362467  , 0.38790328, 0.44195537, 0.40062142, 0.40698049,\n",
       "        0.3720056 , 0.38472374, 0.31795351, 0.26390141, 0.21938792,\n",
       "        0.21620838, 0.19395164, 0.15261768, 0.12400187, 0.07948838,\n",
       "        0.0635907 , 0.06041117, 0.04133396, 0.02543628, 0.01271814,\n",
       "        0.01589768, 0.01907721, 0.01271814, 0.00635907, 0.00317954,\n",
       "        0.        , 0.00317954, 0.        , 0.        , 0.00317954]),\n",
       " array([-3.76909436, -3.61183866, -3.45458297, -3.29732727, -3.14007158,\n",
       "        -2.98281588, -2.82556018, -2.66830449, -2.51104879, -2.3537931 ,\n",
       "        -2.1965374 , -2.0392817 , -1.88202601, -1.72477031, -1.56751462,\n",
       "        -1.41025892, -1.25300322, -1.09574753, -0.93849183, -0.78123614,\n",
       "        -0.62398044, -0.46672474, -0.30946905, -0.15221335,  0.00504235,\n",
       "         0.16229804,  0.31955374,  0.47680943,  0.63406513,  0.79132083,\n",
       "         0.94857652,  1.10583222,  1.26308791,  1.42034361,  1.57759931,\n",
       "         1.734855  ,  1.8921107 ,  2.04936639,  2.20662209,  2.36387779,\n",
       "         2.52113348,  2.67838918,  2.83564487,  2.99290057,  3.15015627,\n",
       "         3.30741196,  3.46466766,  3.62192335,  3.77917905,  3.93643475,\n",
       "         4.09369044]),\n",
       " <BarContainer object of 50 artists>)"
      ]
     },
     "execution_count": 26,
     "metadata": {},
     "output_type": "execute_result"
    },
    {
     "data": {
      "image/png": "[encoded data removed]",
      "text/plain": [
       "<Figure size 432x288 with 1 Axes>"
      ]
     },
     "metadata": {
      "needs_background": "light"
     },
     "output_type": "display_data"
    }
   ],
   "source": [
    "plt.hist(eps, 50, density=True)"
   ]
  },
  {
   "cell_type": "code",
   "execution_count": null,
   "id": "necessary-communications",
   "metadata": {},
   "outputs": [],
   "source": []
  },
  {
   "cell_type": "code",
   "execution_count": null,
   "id": "victorian-islam",
   "metadata": {},
   "outputs": [],
   "source": []
  }
 ],
 "metadata": {
  "kernelspec": {
   "display_name": "Python 3",
   "language": "python",
   "name": "python3"
  },
  "language_info": {
   "codemirror_mode": {
    "name": "ipython",
    "version": 3
   },
   "file_extension": ".py",
   "mimetype": "text/x-python",
   "name": "python",
   "nbconvert_exporter": "python",
   "pygments_lexer": "ipython3",
   "version": "3.6.12"
  }
 },
 "nbformat": 4,
 "nbformat_minor": 5
}
