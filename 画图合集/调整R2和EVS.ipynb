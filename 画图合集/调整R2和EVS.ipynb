{
 "cells": [
  {
   "cell_type": "code",
   "execution_count": 28,
   "id": "cardiac-louisville",
   "metadata": {},
   "outputs": [],
   "source": [
    "import numpy as np\n",
    "import pandas as pd"
   ]
  },
  {
   "cell_type": "code",
   "execution_count": 29,
   "id": "composed-acquisition",
   "metadata": {},
   "outputs": [],
   "source": [
    "def nor_r2evs(x, y):\n",
    "    r2 = 1/(1+(np.exp((-x))))\n",
    "    x = y\n",
    "    a = np.exp((x))\n",
    "    b = np.exp((-x))\n",
    "    var = ((a-b) / (a+b) + 1) / 2\n",
    "    return r2, var"
   ]
  },
  {
   "cell_type": "code",
   "execution_count": 30,
   "id": "cutting-ecuador",
   "metadata": {},
   "outputs": [
    {
     "name": "stderr",
     "output_type": "stream",
     "text": [
      "E:\\ProgramData\\Anaconda3\\envs\\ManifoldFlow\\lib\\site-packages\\pandas\\core\\indexing.py:1765: SettingWithCopyWarning: \n",
      "A value is trying to be set on a copy of a slice from a DataFrame.\n",
      "Try using .loc[row_indexer,col_indexer] = value instead\n",
      "\n",
      "See the caveats in the documentation: https://pandas.pydata.org/pandas-docs/stable/user_guide/indexing.html#returning-a-view-versus-a-copy\n",
      "  isetter(loc, value)\n"
     ]
    }
   ],
   "source": [
    "path = r\"D:\\projects\\SF\\toy_example\\results\\used_data.csv\"\n",
    "save_path = r\"D:\\projects\\SF\\toy_example\\results\\normed_data.csv\"\n",
    "data = pd.read_csv(path, header=0)\n",
    "newdf = data[data['data_set']!=\"note\"]\n",
    "newdf.loc[:,['hyper']] = \"normed\""
   ]
  },
  {
   "cell_type": "markdown",
   "id": "split-egyptian",
   "metadata": {},
   "source": [
    "复制出来进行操作，避免污染"
   ]
  },
  {
   "cell_type": "code",
   "execution_count": 34,
   "id": "excited-bracelet",
   "metadata": {},
   "outputs": [],
   "source": [
    "newdf.loc[:,'r2'], newdf.loc[:,'evs'] = nor_r2evs(newdf.loc[:,'r2'], newdf.loc[:,'evs'])\n",
    "newdf.to_csv(save_path, index=False, float_format=\"%.3f\")"
   ]
  },
  {
   "cell_type": "code",
   "execution_count": null,
   "id": "adjacent-registration",
   "metadata": {},
   "outputs": [],
   "source": []
  },
  {
   "cell_type": "code",
   "execution_count": null,
   "id": "multiple-turner",
   "metadata": {},
   "outputs": [],
   "source": []
  }
 ],
 "metadata": {
  "kernelspec": {
   "display_name": "Python 3",
   "language": "python",
   "name": "python3"
  },
  "language_info": {
   "codemirror_mode": {
    "name": "ipython",
    "version": 3
   },
   "file_extension": ".py",
   "mimetype": "text/x-python",
   "name": "python",
   "nbconvert_exporter": "python",
   "pygments_lexer": "ipython3",
   "version": "3.6.12"
  }
 },
 "nbformat": 4,
 "nbformat_minor": 5
}
