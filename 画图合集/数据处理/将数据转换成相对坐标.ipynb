{
 "cells": [
  {
   "cell_type": "code",
   "execution_count": 30,
   "id": "revised-credit",
   "metadata": {},
   "outputs": [],
   "source": [
    "import pandas as pd\n",
    "import numpy as np\n",
    "import scipy\n",
    "import argparse\n",
    "import matplotlib.pyplot as plt\n",
    "import matplotlib.ticker as ticker\n",
    "from matplotlib.font_manager import FontProperties\n",
    "import os\n",
    "from mpl_toolkits.mplot3d import Axes3D\n",
    "from scipy import ndimage\n",
    "from matplotlib import cm\n",
    "from matplotlib.font_manager import FontProperties, rcParams\n",
    "import os\n",
    "from os.path import join as pjoin\n",
    "os.chdir(\"d:\\\\projects\\\\IJCAI_KDD\\\\CWMIM\\\\\")\n",
    "os.getcwd()\n",
    "# from draw_pic import get_color\n",
    "plt.rcParams['ps.useafm'] = True\n",
    "plt.rcParams['pdf.use14corefonts'] = True\n",
    "plt.rcParams['text.usetex'] = True\n",
    "\n",
    "DATAPATH = {\n",
    "    \"HZY_west\": r\"D:\\projects\\Datasets\\Original\\DDH_left.csv\",\n",
    "    \"HZY_east\": r\"D:\\projects\\Datasets\\Original\\DDH_right.csv\",\n",
    "    \"PBG_west\": r\"D:\\projects\\Datasets\\Original\\YC02_rel.csv\",\n",
    "    \"PBG_east\": r\"D:\\projects\\Datasets\\Original\\YC01_rel.csv\"\n",
    "}\n",
    "\n",
    "save_dir = r\"D:\\projects\\IJCAI_KDD\\CWMIM\\results\\figs\""
   ]
  },
  {
   "cell_type": "markdown",
   "id": "2a2e2a45",
   "metadata": {},
   "source": [
    "思路：\n",
    "1. 从原始的数据中分出角度和距离，类似于球坐标系.todo 是否要norm?\n",
    "2. 构造相对temporal特征"
   ]
  },
  {
   "cell_type": "code",
   "execution_count": null,
   "id": "4828d3d5",
   "metadata": {},
   "outputs": [],
   "source": [
    "data = np.loadtxt(fname=DATAPATH[\"HZY_east\"], skiprows=1, delimiter=\",\")\n",
    "locs = data[:, :3]\n",
    "features = data[:, 3:]\n",
    "print(\"原始坐标\", locs.shape)"
   ]
  },
  {
   "cell_type": "code",
   "execution_count": null,
   "id": "7086ebf4",
   "metadata": {},
   "outputs": [],
   "source": [
    "# normed \n",
    "from lib.dataloader import Slope\n",
    "slope_set = Slope(DATAPATH[\"HZY_east\"], seq_len=3, pre_len=1)"
   ]
  },
  {
   "cell_type": "code",
   "execution_count": 35,
   "id": "ec226e1c",
   "metadata": {},
   "outputs": [],
   "source": [
    "ab_dist = scipy.spatial.distance.cdist(locs, locs)"
   ]
  },
  {
   "cell_type": "code",
   "execution_count": 50,
   "id": "657d1ac3",
   "metadata": {},
   "outputs": [],
   "source": [
    "h_dist = scipy.spatial.distance.cdist(locs[:, 2:3], locs[:, 2:3])"
   ]
  }
 ],
 "metadata": {
  "kernelspec": {
   "display_name": "Python 3",
   "language": "python",
   "name": "python3"
  },
  "language_info": {
   "codemirror_mode": {
    "name": "ipython",
    "version": 3
   },
   "file_extension": ".py",
   "mimetype": "text/x-python",
   "name": "python",
   "nbconvert_exporter": "python",
   "pygments_lexer": "ipython3",
   "version": "3.6.13"
  }
 },
 "nbformat": 4,
 "nbformat_minor": 5
}
