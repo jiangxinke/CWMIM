{
 "cells": [
  {
   "cell_type": "code",
   "execution_count": 165,
   "id": "looking-production",
   "metadata": {},
   "outputs": [
    {
     "name": "stderr",
     "output_type": "stream",
     "text": [
      "E:\\ProgramData\\Anaconda3\\envs\\ManifoldFlow\\lib\\site-packages\\ipykernel_launcher.py:19: MatplotlibDeprecationWarning: Support for setting the 'text.latex.preamble' or 'pgf.preamble' rcParam to a list of strings is deprecated since 3.3 and will be removed two minor releases later; set it to a single string instead.\n"
     ]
    }
   ],
   "source": [
    "# 需要3.4版本matplotlib\n",
    "import numpy as np\n",
    "import os\n",
    "import matplotlib.pyplot as plt\n",
    "import pandas as pd\n",
    "def standard_fig_save(save_path, file_name, file_format=\"pdf\"):\n",
    "    # don't need to set format\n",
    "    fig_filename = os.path.join(save_path, file_name + '.' + file_format)\n",
    "#     utils.makedirs(os.path.dirname(fig_filename))\n",
    "    plt.savefig(fig_filename, dpi=500, bbox_inches='tight', transparent=True, pad_inches=0)\n",
    "    plt.close()\n",
    "\n",
    "\n",
    "# 全局设置 pdfa字体\n",
    "plt.rcParams['ps.useafm'] = True\n",
    "plt.rcParams['pdf.use14corefonts'] = True\n",
    "plt.rcParams['text.usetex'] = True\n",
    "\n",
    "plt.rcParams['text.latex.preamble'] = [r'\\usepackage{bm}']\n",
    "\n",
    "# 全局设置times new roman字体\n",
    "# params={'font.family':'serif',\n",
    "#         'font.serif':'Times New Roman',\n",
    "# #         'font.style':'italic',\n",
    "#         'font.weight':'normal', #or 'blod'\n",
    "#         'font.size':20,#or large,small\n",
    "#         }\n",
    "# plt.rcParams.update(params)\n",
    "\n",
    "params={'font.size':15}\n",
    "plt.rcParams.update(params)\n",
    "\n",
    "\n",
    "label_font_s = 35\n",
    "tick_font_s = 40\n",
    "legend_font_s = 25\n",
    "linewidth = 3\n",
    "markersize = 5\n",
    "figsize = (5, 4)"
   ]
  },
  {
   "cell_type": "markdown",
   "id": "thorough-thong",
   "metadata": {},
   "source": [
    "# PBG\n",
    "W  = [0.019, 0.015, 0.983, 0.497, 0.500]\n",
    "SW = [0.013, 0.010, 0.993, 0.538, 0.540 ]\n",
    "S  = [0.052, 0.044, 0.584, 0.283, 0.291]\n",
    "\n",
    "plt. clf()\n",
    "fig, ax = plt.subplots(nrows=1, ncols=1, figsize=(10, 5), tight_layout=True)\n",
    "x = np.arange(5)\n",
    "total_width, n = 0.8, 3\n",
    "width = total_width / n\n",
    "x = x - (total_width - width) / 2\n",
    "\n",
    "ax.bar(x + width * 0, S, label=\"S\", width=width, hatch='/')\n",
    "ax.bar(x + width * 1, W, label=\"W\", width=width, hatch=r'\\\\')\n",
    "ax.bar(x + width * 2, SW, label=\"SW\", width=width, hatch='x')\n",
    "plt.legend(loc='upper left', fontsize=legend_font_s)\n",
    "\n",
    "ax.set_yticks([])\n",
    "ax.set_xticks([0, 1, 2, 3, 4])\n",
    "ax.set_xticklabels([\"RMSE\", \"MAE\", \"ACC\", r\"R$^2$\", \"EVS\"], fontsize=tick_font_s)\n",
    "# ax.set_ylabel(lable, fontsize=label_font_s)\n",
    "# plt.ylabel('Deformation')\n",
    "# plt.xlabel('Different locations')\n",
    "\n",
    "# standard_fig_save(r\"D:\\projects\\SF\\toy_example\\data\\dynamics\", \"HZY\")"
   ]
  },
  {
   "cell_type": "code",
   "execution_count": 94,
   "id": "important-stomach",
   "metadata": {},
   "outputs": [],
   "source": [
    "def normed(W, SW, S):\n",
    "    n = np.array([W, SW, S])\n",
    "#     n = np.log(n)+4\n",
    "#     for i in range(n.shape[1]):\n",
    "#         n[:, i] = (n[:, i] - n[:, i].min()) / (n[:, i].max() - n[:, i].min())\n",
    "    return n[0], n[1], n[2]"
   ]
  },
  {
   "cell_type": "code",
   "execution_count": 130,
   "id": "velvet-birth",
   "metadata": {},
   "outputs": [],
   "source": [
    "label_font_s = 35\n",
    "xtick_font_s = 30\n",
    "ytick_font_s = 30\n",
    "legend_font_s = 30"
   ]
  },
  {
   "cell_type": "code",
   "execution_count": 166,
   "id": "sophisticated-spare",
   "metadata": {
    "scrolled": false
   },
   "outputs": [
    {
     "data": {
      "text/plain": [
       "<Figure size 432x288 with 0 Axes>"
      ]
     },
     "metadata": {},
     "output_type": "display_data"
    }
   ],
   "source": [
    "# HZY\n",
    "W  = [0.072, 0.055, 0.541, 0.472, 0.464]\n",
    "SW = [0.052, 0.035, 0.742, 0.492, 0.472]\n",
    "S  = [0.076, 0.057, 0.527, 0.407, 0.458]\n",
    "\n",
    "W, SW, S = normed(W, SW, S)\n",
    "\n",
    "groups = 2\n",
    "colums = 3\n",
    "\n",
    "plt. clf()\n",
    "fig, ax = plt.subplots(nrows=1, ncols=1, figsize=(5, 5), tight_layout=True)\n",
    "x = np.arange(groups)\n",
    "total_width, n = 0.6, colums\n",
    "width = total_width / n\n",
    "x = x - (total_width - width) / 2\n",
    "\n",
    "ax.bar(x + width * 0, S[:1], label=\"S\", width=width, hatch='/')\n",
    "ax.bar(x + width * 1, W[:1], label=\"W\", width=width, hatch=r'\\\\')\n",
    "ax.bar(x + width * 2, SW[:1], label=\"SW\", width=width, hatch='x')\n",
    "\n",
    "# plt.legend(loc='upper left', fontsize=legend_font_s)\n",
    "\n",
    "ax.set_ylim(0.04, 0.08)\n",
    "ax.set_yticks([0.05, 0.06, 0.07])\n",
    "ax.set_yticklabels([0.05, 0.06, 0.07], fontsize=ytick_font_s)\n",
    "ax.set_xticks([0, 1])\n",
    "ax.set_xticklabels([\"RMSE\", \"MAE\"], fontsize=xtick_font_s)\n",
    "\n",
    "standard_fig_save(r\"D:\\projects\\SF\\toy_example\\data\\dynamics\", \"HZY-1\")"
   ]
  },
  {
   "cell_type": "code",
   "execution_count": 167,
   "id": "former-large",
   "metadata": {},
   "outputs": [
    {
     "data": {
      "text/plain": [
       "<Figure size 432x288 with 0 Axes>"
      ]
     },
     "metadata": {},
     "output_type": "display_data"
    }
   ],
   "source": [
    "groups = 3\n",
    "colums = 3\n",
    "\n",
    "plt. clf()\n",
    "fig, ax = plt.subplots(nrows=1, ncols=1, figsize=(7, 5), tight_layout=True)\n",
    "x = np.arange(groups)\n",
    "total_width, n = 0.6, colums\n",
    "width = total_width / n\n",
    "x = x - (total_width - width) / 2\n",
    "\n",
    "ax.bar(x + width * 0, S[2:], label=\"S\", width=width, hatch='/')\n",
    "ax.bar(x + width * 1, W[2:], label=\"W\", width=width, hatch=r'\\\\')\n",
    "ax.bar(x + width * 2, SW[2:], label=\"SW\", width=width, hatch='x')\n",
    "\n",
    "plt.legend(loc='upper right', fontsize=legend_font_s)\n",
    "\n",
    "ax.set_ylim(0.35, 0.75)\n",
    "ax.set_yticks([0.4, 0.5, 0.6, 0.7])\n",
    "ax.set_yticklabels([0.4, 0.5, 0.6, 0.7], fontsize=ytick_font_s)\n",
    "ax.set_xticks([0, 1, 2])\n",
    "ax.set_xticklabels([\"ACC\", r\"R$^2$\", \"EVS\"], fontsize=xtick_font_s)\n",
    "\n",
    "standard_fig_save(r\"D:\\projects\\SF\\toy_example\\data\\dynamics\", \"HZY-2\")"
   ]
  },
  {
   "cell_type": "code",
   "execution_count": null,
   "id": "known-climate",
   "metadata": {},
   "outputs": [],
   "source": []
  },
  {
   "cell_type": "code",
   "execution_count": null,
   "id": "collectible-classification",
   "metadata": {},
   "outputs": [],
   "source": []
  },
  {
   "cell_type": "code",
   "execution_count": 168,
   "id": "considered-surrey",
   "metadata": {},
   "outputs": [
    {
     "data": {
      "text/plain": [
       "<Figure size 432x288 with 0 Axes>"
      ]
     },
     "metadata": {},
     "output_type": "display_data"
    }
   ],
   "source": [
    "# PBG\n",
    "W  = [0.019, 0.015, 0.983, 0.497, 0.500]\n",
    "SW = [0.013, 0.010, 0.993, 0.538, 0.540]\n",
    "S  = [0.052, 0.044, 0.584, 0.283, 0.291]\n",
    "\n",
    "W, SW, S = normed(W, SW, S)\n",
    "\n",
    "groups = 2\n",
    "colums = 3\n",
    "\n",
    "plt. clf()\n",
    "fig, ax = plt.subplots(nrows=1, ncols=1, figsize=(5, 5), tight_layout=True)\n",
    "x = np.arange(groups)\n",
    "total_width, n = 0.6, colums\n",
    "width = total_width / n\n",
    "x = x - (total_width - width) / 2\n",
    "\n",
    "ax.bar(x + width * 0, S[:1], label=\"S\", width=width, hatch='/')\n",
    "ax.bar(x + width * 1, W[:1], label=\"W\", width=width, hatch=r'\\\\')\n",
    "ax.bar(x + width * 2, SW[:1], label=\"SW\", width=width, hatch='x')\n",
    "\n",
    "# plt.legend(loc='upper left', fontsize=legend_font_s)\n",
    "\n",
    "ax.set_ylim(0., 0.055)\n",
    "ax.set_yticks([0.01, 0.02, 0.03, 0.04, 0.05])\n",
    "ax.set_yticklabels([0.01, 0.02, 0.03, 0.04, 0.05], fontsize=ytick_font_s)\n",
    "ax.set_xticks([0, 1])\n",
    "ax.set_xticklabels([\"RMSE\", \"MAE\"], fontsize=xtick_font_s)\n",
    "\n",
    "standard_fig_save(r\"D:\\projects\\SF\\toy_example\\data\\dynamics\", \"PBG-1\")"
   ]
  },
  {
   "cell_type": "code",
   "execution_count": 169,
   "id": "aquatic-proposal",
   "metadata": {},
   "outputs": [
    {
     "data": {
      "text/plain": [
       "<Figure size 432x288 with 0 Axes>"
      ]
     },
     "metadata": {},
     "output_type": "display_data"
    }
   ],
   "source": [
    "groups = 3\n",
    "colums = 3\n",
    "\n",
    "plt. clf()\n",
    "fig, ax = plt.subplots(nrows=1, ncols=1, figsize=(7, 5), tight_layout=True)\n",
    "x = np.arange(groups)\n",
    "total_width, n = 0.6, colums\n",
    "width = total_width / n\n",
    "x = x - (total_width - width) / 2\n",
    "\n",
    "ax.bar(x + width * 0, S[2:], label=\"S\", width=width, hatch='/')\n",
    "ax.bar(x + width * 1, W[2:], label=\"W\", width=width, hatch=r'\\\\')\n",
    "ax.bar(x + width * 2, SW[2:], label=\"SW\", width=width, hatch='x')\n",
    "\n",
    "plt.legend(loc='upper right', fontsize=legend_font_s)\n",
    "\n",
    "ax.set_ylim(0.18, 1.1)\n",
    "ax.set_yticks([0.2,  0.4, 0.6, 0.8, 1.0])\n",
    "ax.set_yticklabels([0.2, 0.4, 0.6, 0.8, 1.0], fontsize=ytick_font_s)\n",
    "ax.set_xticks([0, 1, 2])\n",
    "ax.set_xticklabels([\"ACC\", r\"R$^2$\", \"EVS\"], fontsize=xtick_font_s)\n",
    "\n",
    "standard_fig_save(r\"D:\\projects\\SF\\toy_example\\data\\dynamics\", \"PBG-2\")"
   ]
  },
  {
   "cell_type": "code",
   "execution_count": null,
   "id": "inner-campaign",
   "metadata": {},
   "outputs": [],
   "source": []
  },
  {
   "cell_type": "code",
   "execution_count": null,
   "id": "wound-granny",
   "metadata": {},
   "outputs": [],
   "source": []
  },
  {
   "cell_type": "code",
   "execution_count": null,
   "id": "judicial-tuesday",
   "metadata": {},
   "outputs": [],
   "source": []
  }
 ],
 "metadata": {
  "kernelspec": {
   "display_name": "Python 3",
   "language": "python",
   "name": "python3"
  },
  "language_info": {
   "codemirror_mode": {
    "name": "ipython",
    "version": 3
   },
   "file_extension": ".py",
   "mimetype": "text/x-python",
   "name": "python",
   "nbconvert_exporter": "python",
   "pygments_lexer": "ipython3",
   "version": "3.6.12"
  }
 },
 "nbformat": 4,
 "nbformat_minor": 5
}
