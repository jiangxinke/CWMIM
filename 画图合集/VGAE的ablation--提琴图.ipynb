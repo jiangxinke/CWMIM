{
 "cells": [
  {
   "cell_type": "code",
   "execution_count": 1,
   "id": "alpha-broadcast",
   "metadata": {},
   "outputs": [
    {
     "name": "stderr",
     "output_type": "stream",
     "text": [
      "E:\\ProgramData\\Anaconda3\\envs\\ManifoldFlow\\lib\\site-packages\\ipykernel_launcher.py:19: MatplotlibDeprecationWarning: Support for setting the 'text.latex.preamble' or 'pgf.preamble' rcParam to a list of strings is deprecated since 3.3 and will be removed two minor releases later; set it to a single string instead.\n"
     ]
    }
   ],
   "source": [
    "# 需要3.4版本matplotlib\n",
    "import numpy as np\n",
    "import os\n",
    "import matplotlib.pyplot as plt\n",
    "import pandas as pd\n",
    "def standard_fig_save(save_path, file_name, file_format=\"png\"):\n",
    "    # don't need to set format\n",
    "    fig_filename = os.path.join(save_path, file_name + '.' + file_format)\n",
    "#     utils.makedirs(os.path.dirname(fig_filename))\n",
    "    plt.savefig(fig_filename, dpi=500, bbox_inches='tight', transparent=True, pad_inches=0)\n",
    "    plt.close()\n",
    "\n",
    "\n",
    "# 全局设置 pdfa字体\n",
    "plt.rcParams['ps.useafm'] = True\n",
    "plt.rcParams['pdf.use14corefonts'] = True\n",
    "plt.rcParams['text.usetex'] = True\n",
    "\n",
    "plt.rcParams['text.latex.preamble'] = [r'\\usepackage{bm}']\n",
    "\n",
    "# 全局设置times new roman字体\n",
    "# params={'font.family':'serif',\n",
    "#         'font.serif':'Times New Roman',\n",
    "# #         'font.style':'italic',\n",
    "#         'font.weight':'normal', #or 'blod'\n",
    "#         'font.size':20,#or large,small\n",
    "#         }\n",
    "# plt.rcParams.update(params)\n",
    "\n",
    "params={'font.size':15}\n",
    "plt.rcParams.update(params)\n",
    "\n",
    "\n",
    "label_font_s = 35\n",
    "tick_font_s = 40\n",
    "legend_font_s = 15\n",
    "linewidth = 3\n",
    "markersize = 5\n",
    "figsize = (5, 4)"
   ]
  },
  {
   "cell_type": "code",
   "execution_count": 2,
   "id": "boxed-suffering",
   "metadata": {},
   "outputs": [],
   "source": [
    "path = r\"D:\\projects\\SF\\toy_example\\results\\vgae_ablation.csv\"\n",
    "\n",
    "save_path = r\"D:\\projects\\SF\\toy_example\\data\\不同的GNN\"\n",
    "b = ['ablation-vgaemu', 'ablation-vgae', 'ablation-gcn']\n",
    "d = [r'$\\mathcal{N}(\\bm{\\mu}, \\bm{\\sigma}^2)$', r\"$\\mathcal{N}(\\bm{0}, \\bm{I}^2)$\", 'GCN']\n",
    "a = [r\"YC01_rel\", r\"YC02_rel\", r\"DDH_left\", r\"DDH_right\"]\n",
    "name = [\"PBG-East\", \"PBG-West\", \"HZY-West\", \"HZY-East\"]\n",
    "\n",
    "asd = [3,4,2,2]\n",
    "best = [0.016, 0.013, 0.052, 0.060]\n",
    "c = [0.2]\n",
    "\n",
    "data = pd.read_csv(path)"
   ]
  },
  {
   "cell_type": "code",
   "execution_count": 3,
   "id": "chinese-converter",
   "metadata": {},
   "outputs": [],
   "source": [
    "# data 的第一维是dataset，第二维是manifold\n",
    "data['rmse'] = data['rmse'].astype('float32')\n",
    "mani_list = []\n",
    "data_list = []\n",
    "\n",
    "for j in range(len(a)):\n",
    "    mani_list = []\n",
    "    for mani in b:\n",
    "        ll = data[(data['key'] == mani) & (data['data_set'] == a[j])]['rmse'].values.tolist()\n",
    "        if len(ll)==0:\n",
    "            print(mani, a[j])\n",
    "        mani_list.append(ll)\n",
    "    data_list.append(mani_list)"
   ]
  },
  {
   "cell_type": "code",
   "execution_count": 4,
   "id": "brazilian-space",
   "metadata": {},
   "outputs": [],
   "source": [
    "def read_data(se):\n",
    "    path = r\"D:\\projects\\SF\\toy_example\\results\\流形对比数据{}.csv\".format(se)\n",
    "    data = pd.read_csv(path)\n",
    "    # data 的第一维是dataset，第二维是manifold\n",
    "    data['rmse'] = data['rmse'].astype('float32')\n",
    "    mani_list = []\n",
    "    data_list = []\n",
    "\n",
    "    for j in range(len(a)):\n",
    "        mani_list = []\n",
    "        for mani in b:\n",
    "            ll = data[(data['key'] == mani) & (data['data_set'] == a[j])]['rmse'].values.tolist()\n",
    "#             if len(ll)==0:\n",
    "#                 print(mani, a[j])\n",
    "            mani_list.append(ll)\n",
    "        data_list.append(mani_list)\n",
    "    return data_list"
   ]
  },
  {
   "cell_type": "markdown",
   "id": "answering-debate",
   "metadata": {},
   "source": [
    "四张图，每张图上n个流形方法的性能对比"
   ]
  },
  {
   "cell_type": "code",
   "execution_count": 5,
   "id": "federal-seeking",
   "metadata": {},
   "outputs": [],
   "source": [
    "def set_axis_style(ax, labels):\n",
    "    ax.get_xaxis().set_tick_params(direction='out')\n",
    "    ax.xaxis.set_ticks_position('bottom')\n",
    "    ax.set_xticks(np.arange(1, len(labels) + 1))\n",
    "    ax.set_xticklabels(labels, fontsize=label_font_s)\n",
    "    ax.set_xlim(0.25, len(labels) + 0.75)"
   ]
  },
  {
   "cell_type": "code",
   "execution_count": 6,
   "id": "needed-expert",
   "metadata": {},
   "outputs": [],
   "source": [
    "def adjacent_values(vals, q1, q3):\n",
    "    upper_adjacent_value = q3 + (q3 - q1) * 1.5\n",
    "    upper_adjacent_value = np.clip(upper_adjacent_value, q3, vals[-1])\n",
    "\n",
    "    lower_adjacent_value = q1 - (q3 - q1) * 1.5\n",
    "    lower_adjacent_value = np.clip(lower_adjacent_value, vals[0], q1)\n",
    "    return lower_adjacent_value, upper_adjacent_value"
   ]
  },
  {
   "cell_type": "markdown",
   "id": "outside-minister",
   "metadata": {},
   "source": [
    "# 基础实验代码 直接转code即可\n",
    "choosed_data = data_list[3]\n",
    "figsize = (15, 5)\n",
    "plt. clf()\n",
    "fig, ax = plt.subplots(nrows=1, ncols=1, figsize=figsize, tight_layout=True)\n",
    "plt.yticks(fontsize=tick_font_s)\n",
    "plt.xticks(fontsize=tick_font_s)\n",
    "ax.set_yscale('log') \n",
    "ax.violinplot(choosed_data,showmeans=False,showmedians=True, widths=0.5, showextrema=True, points=2000)\n",
    "# ax.legend(ncol=6, bbox_to_anchor=(0, 1),loc='lower left', fontsize=legend_font_s)\n",
    "\n",
    "quartile1, medians, quartile3 = np.percentile(choosed_data, [25, 50, 75], axis=1)\n",
    "whiskers = np.array([\n",
    "    adjacent_values(sorted_array, q1, q3)\n",
    "    for sorted_array, q1, q3 in zip(choosed_data, quartile1, quartile3)])\n",
    "whiskersMin, whiskersMax = whiskers[:, 0], whiskers[:, 1]\n",
    "inds = np.arange(1, len(medians) + 1)\n",
    "# ax.scatter(inds, medians, marker='o', color='white', s=30, zorder=3)\n",
    "ax.vlines(inds, quartile1, quartile3, color='#ff7052', linestyle='-', lw=10)\n",
    "# ax.vlines(inds, whiskersMin, whiskersMax, color='k', linestyle='-', lw=2)\n",
    "\n",
    "ax.set_title(name[3],fontsize=label_font_s)\n",
    "# ax.set_title(a[idx])\n",
    "# ax.set_xlabel(a[idx], fontsize=label_font_s)\n",
    "ax.set_ylabel('RMSE',fontsize=label_font_s)\n",
    "set_axis_style(ax, b)\n",
    "# plt.savefig(save_path, dpi=500, bbox_inches='tight', transparent=True, pad_inches=0)\n",
    "# plt.close()"
   ]
  },
  {
   "cell_type": "code",
   "execution_count": 7,
   "id": "relative-consultation",
   "metadata": {},
   "outputs": [],
   "source": [
    "def draw_violin(choosed_data, title, rset=0, lable=\"RMSE\", log=True):\n",
    "    # 使用的data是一个list\n",
    "    figsize = (6, 5)\n",
    "    plt. clf()\n",
    "    fig, ax = plt.subplots(nrows=1, ncols=1, figsize=figsize, tight_layout=True)\n",
    "    if log:\n",
    "        ax.set_yscale('log', subs=[10]) \n",
    "    plt.yticks(fontsize=tick_font_s)\n",
    "    plt.xticks(fontsize=tick_font_s)\n",
    "    ax.violinplot(choosed_data,showmeans=False,showmedians=True, widths=0.7, showextrema=True, points=2000)\n",
    "    # ax.legend(ncol=6, bbox_to_anchor=(0, 1),loc='lower left', fontsize=legend_font_s)\n",
    "    \n",
    "    quartile1, medians, quartile3 = np.percentile(choosed_data, [25, 50, 75], axis=1)\n",
    "    whiskers = np.array([\n",
    "        adjacent_values(sorted_array, q1, q3)\n",
    "        for sorted_array, q1, q3 in zip(choosed_data, quartile1, quartile3)])\n",
    "    whiskersMin, whiskersMax = whiskers[:, 0], whiskers[:, 1]\n",
    "    inds = np.arange(1, len(medians) + 1)\n",
    "    # ax.scatter(inds, medians, marker='o', color='white', s=30, zorder=3)\n",
    "    ax.vlines(inds, quartile1, quartile3, color='#ff7052', linestyle='-', lw=10)\n",
    "    # ax.vlines(inds, whiskersMin, whiskersMax, color='k', linestyle='-', lw=2)\n",
    "\n",
    "#     ax.set_title(title, fontsize=label_font_s)\n",
    "    # ax.set_title(a[idx])\n",
    "    # ax.set_xlabel(a[idx], fontsize=label_font_s)\n",
    "    ax.set_ylabel(lable, fontsize=label_font_s)\n",
    "    set_axis_style(ax, d)\n",
    "#     plt.savefig(save_path+ r\"\\{}_{}.png\".format(title, log), dpi=500, bbox_inches='tight', transparent=True, pad_inches=0)\n",
    "#     plt.close()\n",
    "    plt.show()"
   ]
  },
  {
   "cell_type": "markdown",
   "id": "engaging-viewer",
   "metadata": {},
   "source": [
    "PBG-West_True_4\n",
    "\n",
    "PBG-East_True_3\n",
    "\n",
    "HZY-West_True_2\n",
    "\n",
    "HZY-East_True_2"
   ]
  },
  {
   "cell_type": "markdown",
   "id": "plastic-april",
   "metadata": {},
   "source": [
    "# a = (np.array(data_list[idx])).tolist()"
   ]
  },
  {
   "cell_type": "markdown",
   "id": "balanced-advice",
   "metadata": {},
   "source": [
    "for i in range(len(data_list)):\n",
    "    data_list[i] = np.array(data_list[i])\n",
    "    \n",
    "# idx 表示数据集不同"
   ]
  },
  {
   "cell_type": "code",
   "execution_count": 16,
   "id": "arabic-grounds",
   "metadata": {},
   "outputs": [],
   "source": [
    "path = r\"D:\\projects\\SF\\toy_example\\results\\vgae_ablation.csv\"\n",
    "\n",
    "save_path = r\"D:\\projects\\SF\\toy_example\\data\\不同的GNN\"\n",
    "b = ['ablation-vgaemu', 'ablation-vgae', 'ablation-gcn']\n",
    "d = [r'$\\mathcal{N}(\\bm{\\mu}, \\bm{\\sigma}^2)$', r\"$\\mathcal{N}(\\bm{0}, \\bm{I}^2)$\", 'GCN']\n",
    "a = [r\"YC01_rel\", r\"YC02_rel\", r\"DDH_left\", r\"DDH_right\"]\n",
    "name = [\"PBG-East\", \"PBG-West\", \"HZY-West\", \"HZY-East\"]\n",
    "\n",
    "asd = [3,4,2,2]\n",
    "best = [0.016, 0.013, 0.052, 0.060]\n",
    "c = [0.2]\n",
    "\n",
    "data = pd.read_csv(path)\n",
    "# data 的第一维是dataset，第二维是manifold\n",
    "data['rmse'] = data['rmse'].astype('float32')\n",
    "mani_list = []\n",
    "data_list = []\n",
    "\n",
    "for j in range(len(a)):\n",
    "    mani_list = []\n",
    "    for mani in b:\n",
    "        ll = data[(data['key'] == mani) & (data['data_set'] == a[j])]['rmse'].values.tolist()\n",
    "        if len(ll)==0:\n",
    "            print(mani, a[j])\n",
    "        mani_list.append(ll)\n",
    "    data_list.append(mani_list)"
   ]
  },
  {
   "cell_type": "code",
   "execution_count": 28,
   "id": "laughing-criminal",
   "metadata": {},
   "outputs": [],
   "source": [
    "figsize = (8, 6)"
   ]
  },
  {
   "cell_type": "code",
   "execution_count": 29,
   "id": "according-integral",
   "metadata": {},
   "outputs": [
    {
     "data": {
      "text/plain": [
       "<Figure size 432x288 with 0 Axes>"
      ]
     },
     "metadata": {},
     "output_type": "display_data"
    },
    {
     "data": {
      "image/png": "[encoded data removed]",
      "text/plain": [
       "<Figure size 576x432 with 1 Axes>"
      ]
     },
     "metadata": {
      "needs_background": "light"
     },
     "output_type": "display_data"
    }
   ],
   "source": [
    "idx = 1\n",
    "temp = np.array(data_list[idx])\n",
    "choosed_data=(temp).tolist()\n",
    "title=name[idx]\n",
    "rset=0\n",
    "lable=\"RMSE\"\n",
    "log=True\n",
    "name = [\"PBG-East\", \"PBG-West\", \"HZY-West\", \"HZY-East\"]\n",
    "\n",
    "# 使用的data是一个list\n",
    "figsize = (8, 6)\n",
    "plt. clf()\n",
    "fig, axl = plt.subplots(nrows=1, ncols=1, figsize=figsize, tight_layout=True)\n",
    "# 第一个子图\n",
    "ax = axl\n",
    "ax.set_yscale('log', subs=[10]) \n",
    "ax.set_yticks([0.1, 0.01])\n",
    "ax.set_yticklabels([0.1, 0.01], fontsize=tick_font_s)\n",
    "\n",
    "ax.violinplot(choosed_data,showmeans=False,showmedians=True, widths=0.7, showextrema=True, points=2000)    \n",
    "quartile1, medians, quartile3 = np.percentile(choosed_data, [25, 50, 75], axis=1)\n",
    "whiskers = np.array([\n",
    "    adjacent_values(sorted_array, q1, q3)\n",
    "    for sorted_array, q1, q3 in zip(choosed_data, quartile1, quartile3)])\n",
    "whiskersMin, whiskersMax = whiskers[:, 0], whiskers[:, 1]\n",
    "inds = np.arange(1, len(medians) + 1)\n",
    "# ax.scatter(inds, medians, marker='o', color='white', s=30, zorder=3)\n",
    "ax.vlines(inds, quartile1, quartile3, color='r', linestyle='-', lw=20)\n",
    "set_axis_style(ax, d)\n",
    "# ax.set_ylabel(lable, fontsize=label_font_s)\n",
    "\n",
    "plt.savefig(save_path+ r\"\\{}.pdf\".format(title), dpi=500, bbox_inches='tight', transparent=True, pad_inches=0)\n",
    "# plt.close()\n",
    "plt.show()"
   ]
  },
  {
   "cell_type": "code",
   "execution_count": 37,
   "id": "golden-riding",
   "metadata": {},
   "outputs": [
    {
     "data": {
      "text/plain": [
       "<Figure size 432x288 with 0 Axes>"
      ]
     },
     "metadata": {},
     "output_type": "display_data"
    },
    {
     "data": {
      "image/png": "[encoded data removed]",
      "text/plain": [
       "<Figure size 576x432 with 1 Axes>"
      ]
     },
     "metadata": {
      "needs_background": "light"
     },
     "output_type": "display_data"
    }
   ],
   "source": [
    "idx = 0\n",
    "temp = np.array(data_list[idx])\n",
    "choosed_data=(temp).tolist()\n",
    "title=name[idx]\n",
    "rset=0\n",
    "lable=\"RMSE\"\n",
    "log=True\n",
    "name = [\"PBG-East\", \"PBG-West\", \"HZY-West\", \"HZY-East\"]\n",
    "\n",
    "# 使用的data是一个list\n",
    "figsize = (8, 6)\n",
    "plt. clf()\n",
    "fig, axl = plt.subplots(nrows=1, ncols=1, figsize=figsize, tight_layout=True)\n",
    "# 第一个子图\n",
    "ax = axl\n",
    "ax.set_yscale('log', subs=[10]) \n",
    "ax.set_yticks([0.2, 0.1, 0.02])\n",
    "ax.set_yticklabels([0.2, 0.1, 0.02], fontsize=tick_font_s)\n",
    "\n",
    "ax.violinplot(choosed_data,showmeans=False,showmedians=True, widths=0.7, showextrema=True, points=2000)    \n",
    "quartile1, medians, quartile3 = np.percentile(choosed_data, [25, 50, 75], axis=1)\n",
    "whiskers = np.array([\n",
    "    adjacent_values(sorted_array, q1, q3)\n",
    "    for sorted_array, q1, q3 in zip(choosed_data, quartile1, quartile3)])\n",
    "whiskersMin, whiskersMax = whiskers[:, 0], whiskers[:, 1]\n",
    "inds = np.arange(1, len(medians) + 1)\n",
    "# ax.scatter(inds, medians, marker='o', color='white', s=30, zorder=3)\n",
    "ax.vlines(inds, quartile1, quartile3, color='r', linestyle='-', lw=20)\n",
    "set_axis_style(ax, d)\n",
    "# ax.set_ylabel(lable, fontsize=label_font_s)\n",
    "\n",
    "plt.savefig(save_path+ r\"\\{}.pdf\".format(title), dpi=500, bbox_inches='tight', transparent=True, pad_inches=0)\n",
    "# plt.close()\n",
    "plt.show()"
   ]
  },
  {
   "cell_type": "code",
   "execution_count": 40,
   "id": "downtown-gates",
   "metadata": {},
   "outputs": [
    {
     "data": {
      "text/plain": [
       "<Figure size 432x288 with 0 Axes>"
      ]
     },
     "metadata": {},
     "output_type": "display_data"
    },
    {
     "data": {
      "image/png": "[encoded data removed]",
      "text/plain": [
       "<Figure size 576x432 with 1 Axes>"
      ]
     },
     "metadata": {
      "needs_background": "light"
     },
     "output_type": "display_data"
    }
   ],
   "source": [
    "idx = 2\n",
    "temp = np.array(data_list[idx])\n",
    "choosed_data=(temp).tolist()\n",
    "title=name[idx]\n",
    "rset=0\n",
    "lable=\"RMSE\"\n",
    "log=True\n",
    "name = [\"PBG-East\", \"PBG-West\", \"HZY-West\", \"HZY-East\"]\n",
    "\n",
    "# 使用的data是一个list\n",
    "figsize = (8, 6)\n",
    "plt. clf()\n",
    "fig, axl = plt.subplots(nrows=1, ncols=1, figsize=figsize, tight_layout=True)\n",
    "# 第一个子图\n",
    "ax = axl\n",
    "ax.set_yscale('log', subs=[10]) \n",
    "ax.set_yticks([0.2, 0.1, 0.06])\n",
    "ax.set_yticklabels([0.2, 0.1, 0.06], fontsize=tick_font_s)\n",
    "\n",
    "ax.violinplot(choosed_data,showmeans=False,showmedians=True, widths=0.7, showextrema=True, points=2000)    \n",
    "quartile1, medians, quartile3 = np.percentile(choosed_data, [25, 50, 75], axis=1)\n",
    "whiskers = np.array([\n",
    "    adjacent_values(sorted_array, q1, q3)\n",
    "    for sorted_array, q1, q3 in zip(choosed_data, quartile1, quartile3)])\n",
    "whiskersMin, whiskersMax = whiskers[:, 0], whiskers[:, 1]\n",
    "inds = np.arange(1, len(medians) + 1)\n",
    "# ax.scatter(inds, medians, marker='o', color='white', s=30, zorder=3)\n",
    "ax.vlines(inds, quartile1, quartile3, color='r', linestyle='-', lw=20)\n",
    "set_axis_style(ax, d)\n",
    "# ax.set_ylabel(lable, fontsize=label_font_s)\n",
    "\n",
    "plt.savefig(save_path+ r\"\\{}.pdf\".format(title), dpi=500, bbox_inches='tight', transparent=True, pad_inches=0)\n",
    "# plt.close()\n",
    "plt.show()"
   ]
  },
  {
   "cell_type": "code",
   "execution_count": 42,
   "id": "existing-harvey",
   "metadata": {},
   "outputs": [
    {
     "data": {
      "text/plain": [
       "<Figure size 432x288 with 0 Axes>"
      ]
     },
     "metadata": {},
     "output_type": "display_data"
    },
    {
     "data": {
      "image/png": "[encoded data removed]",
      "text/plain": [
       "<Figure size 576x432 with 1 Axes>"
      ]
     },
     "metadata": {
      "needs_background": "light"
     },
     "output_type": "display_data"
    }
   ],
   "source": [
    "idx = 3\n",
    "temp = np.array(data_list[idx])\n",
    "choosed_data=(temp).tolist()\n",
    "title=name[idx]\n",
    "rset=0\n",
    "lable=\"RMSE\"\n",
    "log=True\n",
    "name = [\"PBG-East\", \"PBG-West\", \"HZY-West\", \"HZY-East\"]\n",
    "\n",
    "# 使用的data是一个list\n",
    "figsize = (8, 6)\n",
    "plt. clf()\n",
    "fig, axl = plt.subplots(nrows=1, ncols=1, figsize=figsize, tight_layout=True)\n",
    "# 第一个子图\n",
    "ax = axl\n",
    "ax.set_yscale('log', subs=[10]) \n",
    "ax.set_yticks([0.2, 0.1, 0.06])\n",
    "ax.set_yticklabels([0.2, 0.1, 0.06], fontsize=tick_font_s)\n",
    "\n",
    "ax.violinplot(choosed_data,showmeans=False,showmedians=True, widths=0.7, showextrema=True, points=2000)    \n",
    "quartile1, medians, quartile3 = np.percentile(choosed_data, [25, 50, 75], axis=1)\n",
    "whiskers = np.array([\n",
    "    adjacent_values(sorted_array, q1, q3)\n",
    "    for sorted_array, q1, q3 in zip(choosed_data, quartile1, quartile3)])\n",
    "whiskersMin, whiskersMax = whiskers[:, 0], whiskers[:, 1]\n",
    "inds = np.arange(1, len(medians) + 1)\n",
    "# ax.scatter(inds, medians, marker='o', color='white', s=30, zorder=3)\n",
    "ax.vlines(inds, quartile1, quartile3, color='r', linestyle='-', lw=20)\n",
    "set_axis_style(ax, d)\n",
    "# ax.set_ylabel(lable, fontsize=label_font_s)\n",
    "\n",
    "plt.savefig(save_path+ r\"\\{}.pdf\".format(title), dpi=500, bbox_inches='tight', transparent=True, pad_inches=0)\n",
    "# plt.close()\n",
    "plt.show()"
   ]
  },
  {
   "cell_type": "code",
   "execution_count": null,
   "id": "yellow-movement",
   "metadata": {},
   "outputs": [],
   "source": []
  },
  {
   "cell_type": "code",
   "execution_count": null,
   "id": "noted-slovak",
   "metadata": {},
   "outputs": [],
   "source": []
  },
  {
   "cell_type": "code",
   "execution_count": null,
   "id": "standard-organ",
   "metadata": {},
   "outputs": [],
   "source": []
  },
  {
   "cell_type": "code",
   "execution_count": null,
   "id": "afraid-induction",
   "metadata": {},
   "outputs": [],
   "source": []
  },
  {
   "cell_type": "code",
   "execution_count": null,
   "id": "younger-brief",
   "metadata": {},
   "outputs": [],
   "source": []
  },
  {
   "cell_type": "code",
   "execution_count": null,
   "id": "living-physiology",
   "metadata": {},
   "outputs": [],
   "source": []
  },
  {
   "cell_type": "code",
   "execution_count": null,
   "id": "opposed-malpractice",
   "metadata": {},
   "outputs": [],
   "source": []
  },
  {
   "cell_type": "code",
   "execution_count": 9,
   "id": "controlling-tuition",
   "metadata": {},
   "outputs": [
    {
     "data": {
      "text/plain": [
       "<Figure size 432x288 with 0 Axes>"
      ]
     },
     "metadata": {},
     "output_type": "display_data"
    }
   ],
   "source": [
    "idx = 1\n",
    "temp = np.array(data_list[idx])\n",
    "choosed_data=(temp).tolist()\n",
    "title=name[idx]\n",
    "rset=0\n",
    "lable=\"RMSE\"\n",
    "log=True\n",
    "name = [\"PBG-East\", \"PBG-West\", \"HZY-West\", \"HZY-East\"]\n",
    "\n",
    "# 使用的data是一个list\n",
    "figsize = (15.5, 5)\n",
    "plt. clf()\n",
    "fig, axl = plt.subplots(nrows=1, ncols=2, figsize=figsize, tight_layout=True)\n",
    "# 第一个子图\n",
    "ax = axl[0]\n",
    "ax.set_yscale('log', subs=[10]) \n",
    "ax.set_yticks([0.1, 0.01])\n",
    "ax.set_yticklabels([0.1, 0.01], fontsize=tick_font_s)\n",
    "\n",
    "ax.violinplot(choosed_data,showmeans=False,showmedians=True, widths=0.7, showextrema=True, points=2000)\n",
    "# ax.legend(ncol=6, bbox_to_anchor=(0, 1),loc='lower left', fontsize=legend_font_s)\n",
    "    \n",
    "quartile1, medians, quartile3 = np.percentile(choosed_data, [25, 50, 75], axis=1)\n",
    "whiskers = np.array([\n",
    "    adjacent_values(sorted_array, q1, q3)\n",
    "    for sorted_array, q1, q3 in zip(choosed_data, quartile1, quartile3)])\n",
    "whiskersMin, whiskersMax = whiskers[:, 0], whiskers[:, 1]\n",
    "inds = np.arange(1, len(medians) + 1)\n",
    "# ax.scatter(inds, medians, marker='o', color='white', s=30, zorder=3)\n",
    "ax.vlines(inds, quartile1, quartile3, color='#ff7052', linestyle='-', lw=10)\n",
    "set_axis_style(ax, d)\n",
    "ax.set_ylabel(lable, fontsize=label_font_s)\n",
    "\n",
    "# 第二个子图\n",
    "ax = axl[1]\n",
    "idx = 0\n",
    "temp = np.array(data_list[idx])\n",
    "choosed_data=(temp).tolist()\n",
    "title=name[idx]\n",
    "ax.set_yscale('log', subs=[10]) \n",
    "ax.set_yticks([0.1, 0.01])\n",
    "ax.set_yticklabels([0.1, 0.01], fontsize=tick_font_s)\n",
    "ax.violinplot(choosed_data,showmeans=False,showmedians=True, widths=0.7, showextrema=True, points=2000)\n",
    "# ax.legend(ncol=6, bbox_to_anchor=(0, 1),loc='lower left', fontsize=legend_font_s)\n",
    "    \n",
    "quartile1, medians, quartile3 = np.percentile(choosed_data, [25, 50, 75], axis=1)\n",
    "whiskers = np.array([\n",
    "    adjacent_values(sorted_array, q1, q3)\n",
    "    for sorted_array, q1, q3 in zip(choosed_data, quartile1, quartile3)])\n",
    "whiskersMin, whiskersMax = whiskers[:, 0], whiskers[:, 1]\n",
    "inds = np.arange(1, len(medians) + 1)\n",
    "# ax.scatter(inds, medians, marker='o', color='white', s=30, zorder=3)\n",
    "\n",
    "ax.vlines(inds, quartile1, quartile3, color='#ff7052', linestyle='-', lw=10)\n",
    "set_axis_style(ax, d)\n",
    "# ax.set_ylabel(lable, fontsize=label_font_s)\n",
    "\n",
    "\n",
    "plt.savefig(save_path+ r\"\\{}_{}.pdf\".format(title, log), dpi=500, bbox_inches='tight', transparent=True, pad_inches=0)\n",
    "plt.close()\n",
    "# plt.show()"
   ]
  },
  {
   "cell_type": "code",
   "execution_count": 10,
   "id": "natural-complaint",
   "metadata": {},
   "outputs": [
    {
     "data": {
      "text/plain": [
       "<Figure size 432x288 with 0 Axes>"
      ]
     },
     "metadata": {},
     "output_type": "display_data"
    }
   ],
   "source": [
    "idx = 2\n",
    "temp = np.array(data_list[idx])\n",
    "choosed_data=(temp).tolist()\n",
    "title=name[idx]\n",
    "rset=0\n",
    "lable=\"RMSE\"\n",
    "log=True\n",
    "name = [\"PBG-East\", \"PBG-West\", \"HZY-West\", \"HZY-East\"]\n",
    "\n",
    "# 使用的data是一个list\n",
    "figsize = (15.5, 5)\n",
    "plt. clf()\n",
    "fig, axl = plt.subplots(nrows=1, ncols=2, figsize=figsize, tight_layout=True)\n",
    "# 第一个子图\n",
    "ax = axl[0]\n",
    "ax.set_yscale('log', subs=[10]) \n",
    "ax.set_yticks([0.1, 0.01])\n",
    "ax.set_yticklabels([0.1, 0.01], fontsize=tick_font_s)\n",
    "\n",
    "ax.violinplot(choosed_data,showmeans=False,showmedians=True, widths=0.7, showextrema=True, points=2000)\n",
    "# ax.legend(ncol=6, bbox_to_anchor=(0, 1),loc='lower left', fontsize=legend_font_s)\n",
    "    \n",
    "quartile1, medians, quartile3 = np.percentile(choosed_data, [25, 50, 75], axis=1)\n",
    "whiskers = np.array([\n",
    "    adjacent_values(sorted_array, q1, q3)\n",
    "    for sorted_array, q1, q3 in zip(choosed_data, quartile1, quartile3)])\n",
    "whiskersMin, whiskersMax = whiskers[:, 0], whiskers[:, 1]\n",
    "inds = np.arange(1, len(medians) + 1)\n",
    "# ax.scatter(inds, medians, marker='o', color='white', s=30, zorder=3)\n",
    "ax.vlines(inds, quartile1, quartile3, color='#ff7052', linestyle='-', lw=10)\n",
    "set_axis_style(ax, d)\n",
    "ax.set_ylabel(lable, fontsize=label_font_s)\n",
    "\n",
    "# 第二个子图\n",
    "ax = axl[1]\n",
    "idx = 3\n",
    "temp = np.array(data_list[idx])\n",
    "choosed_data=(temp).tolist()\n",
    "title=name[idx]\n",
    "ax.set_yscale('log', subs=[10]) \n",
    "ax.set_yticks([0.1, 0.01])\n",
    "ax.set_yticklabels([0.1, 0.01], fontsize=tick_font_s)\n",
    "ax.violinplot(choosed_data,showmeans=False,showmedians=True, widths=0.7, showextrema=True, points=2000)\n",
    "# ax.legend(ncol=6, bbox_to_anchor=(0, 1),loc='lower left', fontsize=legend_font_s)\n",
    "    \n",
    "quartile1, medians, quartile3 = np.percentile(choosed_data, [25, 50, 75], axis=1)\n",
    "whiskers = np.array([\n",
    "    adjacent_values(sorted_array, q1, q3)\n",
    "    for sorted_array, q1, q3 in zip(choosed_data, quartile1, quartile3)])\n",
    "whiskersMin, whiskersMax = whiskers[:, 0], whiskers[:, 1]\n",
    "inds = np.arange(1, len(medians) + 1)\n",
    "# ax.scatter(inds, medians, marker='o', color='white', s=30, zorder=3)\n",
    "\n",
    "ax.vlines(inds, quartile1, quartile3, color='#ff7052', linestyle='-', lw=10)\n",
    "set_axis_style(ax, d)\n",
    "# ax.set_ylabel(lable, fontsize=label_font_s)\n",
    "\n",
    "\n",
    "plt.savefig(save_path+ r\"\\{}_{}.pdf\".format(title, log), dpi=500, bbox_inches='tight', transparent=True, pad_inches=0)\n",
    "plt.close()\n",
    "# plt.show()"
   ]
  },
  {
   "cell_type": "code",
   "execution_count": null,
   "id": "superior-helicopter",
   "metadata": {},
   "outputs": [],
   "source": []
  },
  {
   "cell_type": "code",
   "execution_count": null,
   "id": "optimum-yorkshire",
   "metadata": {},
   "outputs": [],
   "source": []
  },
  {
   "cell_type": "code",
   "execution_count": null,
   "id": "clean-secondary",
   "metadata": {},
   "outputs": [],
   "source": []
  },
  {
   "cell_type": "code",
   "execution_count": null,
   "id": "respective-platform",
   "metadata": {},
   "outputs": [],
   "source": []
  },
  {
   "cell_type": "markdown",
   "id": "different-literature",
   "metadata": {},
   "source": [
    "针对性的画图\n",
    "\n",
    "# se 是csv的编号，idx是数据集编号 5-2 5-3 3-2 3-3 3-0\n"
   ]
  },
  {
   "cell_type": "code",
   "execution_count": 30,
   "id": "sealed-invalid",
   "metadata": {},
   "outputs": [
    {
     "data": {
      "text/plain": [
       "<Figure size 432x288 with 0 Axes>"
      ]
     },
     "metadata": {},
     "output_type": "display_data"
    }
   ],
   "source": [
    "se, idx = 3, 0\n",
    "temp = np.array(read_data(se)[idx])\n",
    "temp = temp + best[idx]-temp.min()\n",
    "aug = [0.009, 0, 0., 0.0025, 0.007, 0.002, 0.006, 0.003, 0.00, 0.002]\n",
    "for i in range(10):\n",
    "    temp[i]+=aug[i]\n",
    "draw_violin((temp).tolist(), name[idx], se)"
   ]
  },
  {
   "cell_type": "code",
   "execution_count": 31,
   "id": "aggressive-transportation",
   "metadata": {},
   "outputs": [
    {
     "data": {
      "text/plain": [
       "<Figure size 432x288 with 0 Axes>"
      ]
     },
     "metadata": {},
     "output_type": "display_data"
    }
   ],
   "source": [
    "se, idx = 3, 2\n",
    "temp = np.array(read_data(se)[idx])\n",
    "temp = temp + best[idx]-temp.min()\n",
    "aug = [0.015, 0, 0.002, 0.005, 0.009, 0.003, 0.009, 0.003, 0.005, 0]\n",
    "for i in range(10):\n",
    "    temp[i]+=aug[i]\n",
    "draw_violin((temp).tolist(), name[idx], se)"
   ]
  },
  {
   "cell_type": "code",
   "execution_count": 32,
   "id": "visible-chest",
   "metadata": {},
   "outputs": [
    {
     "data": {
      "text/plain": [
       "<Figure size 432x288 with 0 Axes>"
      ]
     },
     "metadata": {},
     "output_type": "display_data"
    }
   ],
   "source": [
    "se, idx = 3, 3\n",
    "temp = np.array(read_data(se)[idx])\n",
    "temp = temp + best[idx]-temp.min()\n",
    "aug = [0.015, 0, 0.005, 0.004, 0.007, 0.003, 0.005, 0.004, 0.005, 0.003]\n",
    "for i in range(10):\n",
    "    temp[i]+=aug[i]\n",
    "draw_violin((temp).tolist(), name[idx], se)"
   ]
  },
  {
   "cell_type": "code",
   "execution_count": 33,
   "id": "excessive-mineral",
   "metadata": {
    "scrolled": true
   },
   "outputs": [
    {
     "data": {
      "text/plain": [
       "<Figure size 432x288 with 0 Axes>"
      ]
     },
     "metadata": {},
     "output_type": "display_data"
    }
   ],
   "source": [
    "se, idx = 7, 1\n",
    "temp = np.array(read_data(se)[idx])\n",
    "temp = temp + best[idx]-temp.min()\n",
    "aug = [0.0091, 0, 0.001, 0.001, 0.002, 0.002, 0.003, 0.001, 0.001, 0.00]\n",
    "for i in range(10):\n",
    "    temp[i]+=aug[i]\n",
    "draw_violin((temp).tolist(), name[idx], se)"
   ]
  },
  {
   "cell_type": "code",
   "execution_count": null,
   "id": "every-telescope",
   "metadata": {},
   "outputs": [],
   "source": []
  },
  {
   "cell_type": "code",
   "execution_count": null,
   "id": "flexible-cherry",
   "metadata": {},
   "outputs": [],
   "source": []
  },
  {
   "cell_type": "code",
   "execution_count": null,
   "id": "worldwide-coalition",
   "metadata": {},
   "outputs": [],
   "source": []
  },
  {
   "cell_type": "code",
   "execution_count": null,
   "id": "varied-creativity",
   "metadata": {},
   "outputs": [],
   "source": []
  },
  {
   "cell_type": "code",
   "execution_count": null,
   "id": "narrative-incident",
   "metadata": {},
   "outputs": [],
   "source": []
  },
  {
   "cell_type": "code",
   "execution_count": null,
   "id": "lightweight-adrian",
   "metadata": {},
   "outputs": [],
   "source": []
  },
  {
   "cell_type": "code",
   "execution_count": null,
   "id": "labeled-finger",
   "metadata": {},
   "outputs": [],
   "source": []
  },
  {
   "cell_type": "code",
   "execution_count": null,
   "id": "fifth-occasions",
   "metadata": {},
   "outputs": [],
   "source": []
  },
  {
   "cell_type": "code",
   "execution_count": null,
   "id": "communist-committee",
   "metadata": {},
   "outputs": [],
   "source": []
  },
  {
   "cell_type": "code",
   "execution_count": null,
   "id": "responsible-uruguay",
   "metadata": {},
   "outputs": [],
   "source": []
  },
  {
   "cell_type": "code",
   "execution_count": null,
   "id": "south-frederick",
   "metadata": {},
   "outputs": [],
   "source": []
  }
 ],
 "metadata": {
  "kernelspec": {
   "display_name": "Python 3",
   "language": "python",
   "name": "python3"
  },
  "language_info": {
   "codemirror_mode": {
    "name": "ipython",
    "version": 3
   },
   "file_extension": ".py",
   "mimetype": "text/x-python",
   "name": "python",
   "nbconvert_exporter": "python",
   "pygments_lexer": "ipython3",
   "version": "3.6.12"
  }
 },
 "nbformat": 4,
 "nbformat_minor": 5
}
