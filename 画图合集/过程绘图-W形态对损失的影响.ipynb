{
 "cells": [
  {
   "cell_type": "code",
   "execution_count": 1,
   "id": "outdoor-therapist",
   "metadata": {},
   "outputs": [],
   "source": [
    "# 需要3.4版本matplotlib\n",
    "import numpy as np\n",
    "import os\n",
    "import matplotlib.pyplot as plt\n",
    "import pandas as pd\n",
    "def standard_fig_save(save_path, file_name, file_format=\"png\"):\n",
    "    # don't need to set format\n",
    "    fig_filename = os.path.join(save_path, file_name + '.' + file_format)\n",
    "#     utils.makedirs(os.path.dirname(fig_filename))\n",
    "    plt.savefig(fig_filename, dpi=500, bbox_inches='tight', transparent=True, pad_inches=0)\n",
    "    plt.close()\n",
    "\n",
    "\n",
    "# 全局设置 pdfa字体\n",
    "plt.rcParams['ps.useafm'] = True\n",
    "plt.rcParams['pdf.use14corefonts'] = True\n",
    "plt.rcParams['text.usetex'] = True\n",
    "\n",
    "# 全局设置times new roman字体\n",
    "# params={'font.family':'serif',\n",
    "#         'font.serif':'Times New Roman',\n",
    "# #         'font.style':'italic',\n",
    "#         'font.weight':'normal', #or 'blod'\n",
    "#         'font.size':20,#or large,small\n",
    "#         }\n",
    "# plt.rcParams.update(params)\n",
    "\n",
    "params={'font.size':15}\n",
    "plt.rcParams.update(params)\n",
    "\n",
    "label_font_s = 40\n",
    "tick_font_s = 30\n",
    "legend_font_s = 30\n",
    "linewidth = 3\n",
    "markersize = 5"
   ]
  },
  {
   "cell_type": "code",
   "execution_count": 2,
   "id": "short-shore",
   "metadata": {},
   "outputs": [],
   "source": [
    "maps = ['viridis', 'plasma', 'inferno', 'magma', 'cividis', 'Greys', 'Purples', 'Blues', 'Greens', \n",
    "        'Oranges', 'Reds','YlOrBr', 'YlOrRd', 'OrRd', 'PuRd', 'RdPu', 'BuPu','GnBu', 'PuBu', \n",
    "        'YlGnBu', 'PuBuGn', 'BuGn', 'YlGn']"
   ]
  },
  {
   "cell_type": "code",
   "execution_count": 3,
   "id": "perceived-family",
   "metadata": {},
   "outputs": [],
   "source": [
    "a = ['YC01_rel', 'YC02_rel', \"DDH_left\", \"DDH_right\"]\n",
    "b = [\"PGB-East\", \"PGB-West\", \"HZY-West\", \"HZY-East\"]\n",
    "idx = 1\n",
    "data = a[idx]\n",
    "data_path = r\"D:\\projects\\SF\\toy_example\\data\\不同隐藏大小对损失的影响\\{}\".format(data)"
   ]
  },
  {
   "cell_type": "code",
   "execution_count": 4,
   "id": "toxic-huntington",
   "metadata": {},
   "outputs": [],
   "source": [
    "d = []\n",
    "for i in range(6):\n",
    "    d.append(pd.read_csv(data_path+ r\"\\{}.csv\".format(i))[0:50])"
   ]
  },
  {
   "cell_type": "code",
   "execution_count": 5,
   "id": "gorgeous-flash",
   "metadata": {},
   "outputs": [],
   "source": [
    "def smooth(data, weight=0.7): #weight是平滑度，tensorboard 默认0.6\n",
    "    scalar = data['Value'].values\n",
    "    last = scalar[0]\n",
    "    smoothed = []\n",
    "    for point in scalar:\n",
    "        smoothed_val = last * weight + (1 - weight) * point\n",
    "        smoothed.append(smoothed_val)\n",
    "        last = smoothed_val\n",
    "    return smoothed"
   ]
  },
  {
   "cell_type": "code",
   "execution_count": 10,
   "id": "abroad-collect",
   "metadata": {},
   "outputs": [],
   "source": [
    "label_font_s = 25\n",
    "tick_font_s = 20\n",
    "legend_font_s = 15\n",
    "linewidth = 4\n",
    "markersize = 5\n",
    "figsize = (8, 3)\n",
    "wight=0.7\n",
    "save_path = r\"D:\\projects\\SF\\toy_example\\data\\不同隐藏大小对损失的影响\\{}_{}.pdf\".format(data, wight)"
   ]
  },
  {
   "cell_type": "code",
   "execution_count": 11,
   "id": "offensive-history",
   "metadata": {
    "scrolled": true
   },
   "outputs": [
    {
     "data": {
      "text/plain": [
       "<Figure size 432x288 with 0 Axes>"
      ]
     },
     "metadata": {},
     "output_type": "display_data"
    }
   ],
   "source": [
    "# 单体绘图\n",
    "plt. clf()\n",
    "fig, ax = plt.subplots(nrows=1, ncols=1, figsize=figsize, tight_layout=True)\n",
    "plt.yticks(fontsize=tick_font_s)\n",
    "plt.xticks(fontsize=tick_font_s)\n",
    "ax.set_yscale('log') \n",
    "# ax.plot(d0['Step'], d0['Value'], label=\"0\", marker=None, linestyle='-', markersize=markersize, linewidth=linewidth)\n",
    "ax.plot(d[0]['Step'], smooth(d[0], wight), label=\"0\", marker=None, c=\"#447fff\", linestyle='-', markersize=markersize, linewidth=linewidth)\n",
    "ax.plot(d[1]['Step'], smooth(d[1], wight), label=\"1\", marker=None, c=\"#628395\", linestyle='-', markersize=markersize, linewidth=linewidth-1)\n",
    "ax.plot(d[2]['Step'], smooth(d[2], wight), label=\"2\", marker=None, c=\"#B2B1B9\", linestyle='-', markersize=markersize, linewidth=linewidth-1)\n",
    "ax.plot(d[3]['Step'], smooth(d[3], wight), label=\"3\", marker=None, c=\"#2C2E43\", linestyle='-', markersize=markersize, linewidth=linewidth)\n",
    "ax.plot(d[4]['Step'], smooth(d[4], wight), label=\"4\", marker=None, c=\"#FFD523\", linestyle='-', markersize=markersize, linewidth=linewidth)\n",
    "ax.plot(d[5]['Step'], smooth(d[5], wight), label=\"5\", marker=None, c=\"#f72d00\", linestyle='-', markersize=markersize, linewidth=linewidth)\n",
    "\n",
    "ax.legend(ncol=6, bbox_to_anchor=(0, 1),loc='lower left', fontsize=legend_font_s)\n",
    "ax.set_xlabel('Epochs', fontsize=label_font_s)\n",
    "ax.set_ylabel('{}'.format(b[idx]),fontsize=label_font_s)\n",
    "\n",
    "save_path = r\"D:\\projects\\SF\\toy_example\\data\\不同隐藏大小对损失的影响\\{}_{}_legend.pdf\".format(data, wight)\n",
    "plt.savefig(save_path, dpi=500, bbox_inches='tight', pad_inches=0)\n",
    "plt.close()"
   ]
  },
  {
   "cell_type": "markdown",
   "id": "marked-support",
   "metadata": {},
   "source": [
    "# p图模式"
   ]
  },
  {
   "cell_type": "code",
   "execution_count": 22,
   "id": "convertible-infrared",
   "metadata": {},
   "outputs": [],
   "source": [
    "ft = \"pdf\"\n",
    "figsize = (8, 3)\n",
    "figsize2 = (7.7, 2.5) # 上下都没有\n",
    "figsize3 = (7.7, 3) # 有下标\n",
    "label_font_s = 19"
   ]
  },
  {
   "cell_type": "code",
   "execution_count": 26,
   "id": "empirical-gates",
   "metadata": {},
   "outputs": [
    {
     "data": {
      "text/plain": [
       "<Figure size 432x288 with 0 Axes>"
      ]
     },
     "metadata": {},
     "output_type": "display_data"
    }
   ],
   "source": [
    "# legend\n",
    "idx = 3\n",
    "data = a[idx]\n",
    "data_path = r\"D:\\projects\\SF\\toy_example\\data\\不同隐藏大小对损失的影响\\{}\".format(data)\n",
    "save_path = r\"D:\\projects\\SF\\toy_example\\data\\不同隐藏大小对损失的影响\\{}_{}_legend.{}\".format(data, wight, ft)\n",
    "d = []\n",
    "for i in range(6):\n",
    "    d.append(pd.read_csv(data_path+ r\"\\{}.csv\".format(i))[0:50])\n",
    "    \n",
    "plt. clf()\n",
    "fig, ax = plt.subplots(nrows=1, ncols=1, figsize=figsize, tight_layout=True)\n",
    "plt.yticks(fontsize=tick_font_s)\n",
    "plt.xticks(fontsize=tick_font_s)\n",
    "ax.set_yscale('log') \n",
    "# ax.plot(d0['Step'], d0['Value'], label=\"0\", marker=None, linestyle='-', markersize=markersize, linewidth=linewidth)\n",
    "ax.plot(d[0]['Step'], smooth(d[0], wight), label=\"0\", marker=None, c=\"#447fff\", linestyle='-', markersize=markersize, linewidth=linewidth)\n",
    "ax.plot(d[1]['Step'], smooth(d[1], wight), label=\"1\", marker=None, c=\"#628395\", linestyle='-', markersize=markersize, linewidth=linewidth-1)\n",
    "ax.plot(d[2]['Step'], smooth(d[2], wight), label=\"2\", marker=None, c=\"#B2B1B9\", linestyle='-', markersize=markersize, linewidth=linewidth-1)\n",
    "ax.plot(d[3]['Step'], smooth(d[3], wight), label=\"3\", marker=None, c=\"#2C2E43\", linestyle='-', markersize=markersize, linewidth=linewidth)\n",
    "ax.plot(d[4]['Step'], smooth(d[4], wight), label=\"4\", marker=None, c=\"#FFD523\", linestyle='-', markersize=markersize, linewidth=linewidth)\n",
    "ax.plot(d[5]['Step'], smooth(d[5], wight), label=\"5\", marker=None, c=\"#f72d00\", linestyle='-', markersize=markersize, linewidth=linewidth)\n",
    "\n",
    "ax.legend(ncol=6, bbox_to_anchor=(0, 1),loc='lower left', fontsize=legend_font_s)\n",
    "ax.set_xticks([])\n",
    "# ax.set_xlabel('Epochs', fontsize=label_font_s)\n",
    "ax.set_ylabel('{}'.format(b[idx]),fontsize=label_font_s)\n",
    "\n",
    "\n",
    "plt.savefig(save_path, dpi=500, bbox_inches='tight', pad_inches=0)\n",
    "plt.close()"
   ]
  },
  {
   "cell_type": "code",
   "execution_count": 30,
   "id": "continuous-filename",
   "metadata": {},
   "outputs": [
    {
     "data": {
      "text/plain": [
       "<Figure size 432x288 with 0 Axes>"
      ]
     },
     "metadata": {},
     "output_type": "display_data"
    }
   ],
   "source": [
    "# with Epoch\n",
    "idx = 3\n",
    "data = a[idx]\n",
    "data_path = r\"D:\\projects\\SF\\toy_example\\data\\不同隐藏大小对损失的影响\\{}\".format(data)\n",
    "save_path = r\"D:\\projects\\SF\\toy_example\\data\\不同隐藏大小对损失的影响\\{}_{}_epo.{}\".format(data, wight, ft)\n",
    "d = []\n",
    "for i in range(6):\n",
    "    d.append(pd.read_csv(data_path+ r\"\\{}.csv\".format(i))[0:50])\n",
    "    \n",
    "plt. clf()\n",
    "fig, ax = plt.subplots(nrows=1, ncols=1, figsize=figsize3, tight_layout=True)\n",
    "plt.yticks(fontsize=tick_font_s)\n",
    "plt.xticks(fontsize=tick_font_s)\n",
    "ax.set_yscale('log') \n",
    "# ax.plot(d0['Step'], d0['Value'], label=\"0\", marker=None, linestyle='-', markersize=markersize, linewidth=linewidth)\n",
    "ax.plot(d[0]['Step'], smooth(d[0], wight), label=\"0\", marker=None, c=\"#447fff\", linestyle='-', markersize=markersize, linewidth=linewidth)\n",
    "ax.plot(d[1]['Step'], smooth(d[1], wight), label=\"1\", marker=None, c=\"#628395\", linestyle='-', markersize=markersize, linewidth=linewidth-1)\n",
    "ax.plot(d[2]['Step'], smooth(d[2], wight), label=\"2\", marker=None, c=\"#B2B1B9\", linestyle='-', markersize=markersize, linewidth=linewidth-1)\n",
    "ax.plot(d[3]['Step'], smooth(d[3], wight), label=\"3\", marker=None, c=\"#2C2E43\", linestyle='-', markersize=markersize, linewidth=linewidth)\n",
    "ax.plot(d[4]['Step'], smooth(d[4], wight), label=\"4\", marker=None, c=\"#FFD523\", linestyle='-', markersize=markersize, linewidth=linewidth)\n",
    "ax.plot(d[5]['Step'], smooth(d[5], wight), label=\"5\", marker=None, c=\"#f72d00\", linestyle='-', markersize=markersize, linewidth=linewidth)\n",
    "\n",
    "# ax.legend(ncol=6, bbox_to_anchor=(0, 1),loc='lower left', fontsize=legend_font_s)\n",
    "# ax.set_xticks([])\n",
    "ax.set_xlabel('Epochs', fontsize=label_font_s)\n",
    "ax.set_ylabel('{}'.format(b[idx]),fontsize=label_font_s)\n",
    "\n",
    "\n",
    "plt.savefig(save_path, dpi=500, bbox_inches='tight', pad_inches=0)\n",
    "plt.close()"
   ]
  },
  {
   "cell_type": "code",
   "execution_count": 34,
   "id": "mathematical-woman",
   "metadata": {},
   "outputs": [
    {
     "data": {
      "text/plain": [
       "<Figure size 432x288 with 0 Axes>"
      ]
     },
     "metadata": {},
     "output_type": "display_data"
    }
   ],
   "source": [
    "# no epoch\n",
    "idx = 3\n",
    "data = a[idx]\n",
    "data_path = r\"D:\\projects\\SF\\toy_example\\data\\不同隐藏大小对损失的影响\\{}\".format(data)\n",
    "save_path = r\"D:\\projects\\SF\\toy_example\\data\\不同隐藏大小对损失的影响\\{}_{}_ne.{}\".format(data, wight, ft)\n",
    "d = []\n",
    "for i in range(6):\n",
    "    d.append(pd.read_csv(data_path+ r\"\\{}.csv\".format(i))[0:50])\n",
    "    \n",
    "plt. clf()\n",
    "fig, ax = plt.subplots(nrows=1, ncols=1, figsize=figsize2, tight_layout=True)\n",
    "plt.yticks(fontsize=tick_font_s)\n",
    "plt.xticks(fontsize=tick_font_s)\n",
    "ax.set_yscale('log') \n",
    "# ax.plot(d0['Step'], d0['Value'], label=\"0\", marker=None, linestyle='-', markersize=markersize, linewidth=linewidth)\n",
    "ax.plot(d[0]['Step'], smooth(d[0], wight), label=\"0\", marker=None, c=\"#447fff\", linestyle='-', markersize=markersize, linewidth=linewidth)\n",
    "ax.plot(d[1]['Step'], smooth(d[1], wight), label=\"1\", marker=None, c=\"#628395\", linestyle='-', markersize=markersize, linewidth=linewidth-1)\n",
    "ax.plot(d[2]['Step'], smooth(d[2], wight), label=\"2\", marker=None, c=\"#B2B1B9\", linestyle='-', markersize=markersize, linewidth=linewidth-1)\n",
    "ax.plot(d[3]['Step'], smooth(d[3], wight), label=\"3\", marker=None, c=\"#2C2E43\", linestyle='-', markersize=markersize, linewidth=linewidth)\n",
    "ax.plot(d[4]['Step'], smooth(d[4], wight), label=\"4\", marker=None, c=\"#FFD523\", linestyle='-', markersize=markersize, linewidth=linewidth)\n",
    "ax.plot(d[5]['Step'], smooth(d[5], wight), label=\"5\", marker=None, c=\"#f72d00\", linestyle='-', markersize=markersize, linewidth=linewidth)\n",
    "\n",
    "# ax.legend(ncol=6, bbox_to_anchor=(0, 1),loc='lower left', fontsize=legend_font_s)\n",
    "ax.set_xticks([])\n",
    "# ax.set_xlabel('Epochs', fontsize=label_font_s)\n",
    "ax.set_ylabel('{}'.format(b[idx]),fontsize=label_font_s)\n",
    "\n",
    "\n",
    "plt.savefig(save_path, dpi=500, bbox_inches='tight', pad_inches=0)\n",
    "plt.close()"
   ]
  },
  {
   "cell_type": "code",
   "execution_count": null,
   "id": "ranking-turkish",
   "metadata": {},
   "outputs": [],
   "source": []
  },
  {
   "cell_type": "code",
   "execution_count": null,
   "id": "angry-anime",
   "metadata": {},
   "outputs": [],
   "source": []
  },
  {
   "cell_type": "code",
   "execution_count": null,
   "id": "overall-interface",
   "metadata": {},
   "outputs": [],
   "source": []
  },
  {
   "cell_type": "code",
   "execution_count": null,
   "id": "breeding-tribute",
   "metadata": {},
   "outputs": [],
   "source": []
  },
  {
   "cell_type": "code",
   "execution_count": null,
   "id": "lovely-shelter",
   "metadata": {},
   "outputs": [],
   "source": []
  },
  {
   "cell_type": "code",
   "execution_count": null,
   "id": "talented-update",
   "metadata": {},
   "outputs": [],
   "source": []
  },
  {
   "cell_type": "code",
   "execution_count": null,
   "id": "amended-noise",
   "metadata": {},
   "outputs": [],
   "source": []
  },
  {
   "cell_type": "code",
   "execution_count": 8,
   "id": "planned-painting",
   "metadata": {},
   "outputs": [],
   "source": [
    "def draw(d, wight, save_path):\n",
    "    plt. clf()\n",
    "    fig, ax = plt.subplots(nrows=1, ncols=1, figsize=figsize, tight_layout=True)\n",
    "    plt.yticks(fontsize=tick_font_s)\n",
    "    plt.xticks(fontsize=tick_font_s)\n",
    "    ax.set_yscale('log') \n",
    "    # ax.plot(d0['Step'], d0['Value'], label=\"0\", marker=None, linestyle='-', markersize=markersize, linewidth=linewidth)\n",
    "    ax.plot(d[0]['Step'], smooth(d[0], wight), label=\"0\", marker=None, c=\"#447fff\", linestyle='-', markersize=markersize, linewidth=linewidth)\n",
    "    ax.plot(d[1]['Step'], smooth(d[1], wight), label=\"1\", marker=None, c=\"#628395\", linestyle='-', markersize=markersize, linewidth=linewidth-1)\n",
    "    ax.plot(d[2]['Step'], smooth(d[2], wight), label=\"2\", marker=None, c=\"#B2B1B9\", linestyle='-', markersize=markersize, linewidth=linewidth-1)\n",
    "    ax.plot(d[3]['Step'], smooth(d[3], wight), label=\"3\", marker=None, c=\"#2C2E43\", linestyle='-', markersize=markersize, linewidth=linewidth)\n",
    "    ax.plot(d[4]['Step'], smooth(d[4], wight), label=\"4\", marker=None, c=\"#FFD523\", linestyle='-', markersize=markersize, linewidth=linewidth)\n",
    "    ax.plot(d[5]['Step'], smooth(d[5], wight), label=\"5\", marker=None, c=\"#f72d00\", linestyle='-', markersize=markersize, linewidth=linewidth)\n",
    "    \n",
    "    ax.legend(ncol=6, bbox_to_anchor=(0, 1),loc='lower left', fontsize=legend_font_s)\n",
    "    ax.set_xlabel('epochs', fontsize=label_font_s)\n",
    "    ax.set_ylabel('MSE',fontsize=label_font_s)\n",
    "\n",
    "    plt.savefig(save_path, dpi=500, bbox_inches='tight', pad_inches=0)\n",
    "    plt.close()"
   ]
  },
  {
   "cell_type": "code",
   "execution_count": 286,
   "id": "adequate-baltimore",
   "metadata": {},
   "outputs": [
    {
     "data": {
      "text/plain": [
       "<Figure size 432x288 with 0 Axes>"
      ]
     },
     "metadata": {},
     "output_type": "display_data"
    }
   ],
   "source": [
    "wight = 0.7\n",
    "for data in a:\n",
    "    data_path = r\"D:\\projects\\SF\\toy_example\\data\\不同隐藏大小对损失的影响\\{}\".format(data)\n",
    "    d = []\n",
    "    for i in range(6):\n",
    "        d.append(pd.read_csv(data_path+ r\"\\{}.csv\".format(i))[0:50])\n",
    "    save_path = r\"D:\\projects\\SF\\toy_example\\data\\不同隐藏大小对损失的影响\\{}_{}.pdf\".format(data, wight)\n",
    "    draw(d, wight, save_path)"
   ]
  },
  {
   "cell_type": "code",
   "execution_count": null,
   "id": "european-chicago",
   "metadata": {},
   "outputs": [],
   "source": []
  }
 ],
 "metadata": {
  "kernelspec": {
   "display_name": "Python 3",
   "language": "python",
   "name": "python3"
  },
  "language_info": {
   "codemirror_mode": {
    "name": "ipython",
    "version": 3
   },
   "file_extension": ".py",
   "mimetype": "text/x-python",
   "name": "python",
   "nbconvert_exporter": "python",
   "pygments_lexer": "ipython3",
   "version": "3.6.12"
  }
 },
 "nbformat": 4,
 "nbformat_minor": 5
}
